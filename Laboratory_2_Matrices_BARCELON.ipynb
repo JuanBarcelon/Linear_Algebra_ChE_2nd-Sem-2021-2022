{
  "nbformat": 4,
  "nbformat_minor": 0,
  "metadata": {
    "colab": {
      "name": "Laboratory 2: Matrices -BARCELON",
      "provenance": [],
      "collapsed_sections": [],
      "toc_visible": true,
      "authorship_tag": "ABX9TyNPGa6/ozrnMyi1PGO/3pqP",
      "include_colab_link": true
    },
    "kernelspec": {
      "name": "python3",
      "display_name": "Python 3"
    },
    "language_info": {
      "name": "python"
    }
  },
  "cells": [
    {
      "cell_type": "markdown",
      "metadata": {
        "id": "view-in-github",
        "colab_type": "text"
      },
      "source": [
        "<a href=\"https://colab.research.google.com/github/JuanBarcelon/Linear_Algebra_ChE_2nd-Sem-2021-2022/blob/main/Laboratory_2_Matrices_BARCELON.ipynb\" target=\"_parent\"><img src=\"https://colab.research.google.com/assets/colab-badge.svg\" alt=\"Open In Colab\"/></a>"
      ]
    },
    {
      "cell_type": "markdown",
      "source": [
        "# Linear Algebra for ChE\n",
        "\n",
        "# Assignment 4: Matrices\n"
      ],
      "metadata": {
        "id": "0iXkN0qEKlnu"
      }
    },
    {
      "cell_type": "markdown",
      "source": [
        "### Objectives\n",
        "\n",
        "At the end of this activity you will be able to:\n",
        "- Be familiar with matrices and their relation to linear equations.\n",
        "- Perform basic matrix operations.\n",
        "- Program and translate matrix equations and operations using Python.\n",
        "\n",
        "\n"
      ],
      "metadata": {
        "id": "YrzH11j4KpSV"
      }
    },
    {
      "cell_type": "markdown",
      "source": [
        "# Discussion"
      ],
      "metadata": {
        "id": "Sy9FJd2CLKIF"
      }
    },
    {
      "cell_type": "code",
      "source": [
        "import numpy as np\n",
        "import matplotlib.pyplot as plt\n",
        "import scipy.linalg as la\n",
        "%matplotlib inline\n"
      ],
      "metadata": {
        "id": "oCZxdcePK7kD"
      },
      "execution_count": 1,
      "outputs": []
    },
    {
      "cell_type": "markdown",
      "source": [
        "## Matrices"
      ],
      "metadata": {
        "id": "qE_X4oiMLMr2"
      }
    },
    {
      "cell_type": "markdown",
      "source": [
        "The notation and use of matrices is probably one of the fundamentals of modern computing. Matrices are also handy representations of complex equations or multiple inter-related equations from 2-dimensional equations to even hundreds and thousands of them.\n",
        "\n",
        "Let's say for example you have  and  as system of equation.\n",
        "\n",
        "$$\n",
        "A = \\left\\{\n",
        "    \\begin{array}\\\n",
        "        10x + 5y \\\\ \n",
        "        3x - 8y\n",
        "    \\end{array}\n",
        "\\right. \\\\\n",
        "B = \\left\\{\n",
        "    \\begin{array}\\\n",
        "        x+y+z \\\\ \n",
        "        3x -2y -z \\\\\n",
        "        -x + 4y +2z\n",
        "    \\end{array}\n",
        "\\right. \\\\\n",
        "C = \\left\\{\n",
        "    \\begin{array}\\\n",
        "      w- 2x + 3y - 4z \\\\\n",
        "      3w - x - 2y + z \\\\\n",
        "      2w = x + 3y - 2z\n",
        "    \\end{array}\n",
        "  \\right. \\\\\n",
        "$$\n",
        "\n",
        "We could see that A is a system of 2 equations with 2 parameters. While B is a system of 3 equations with 3 parameters. B is a system of 4 equations with 4 parameters. We can represent them as matrices as:\n",
        "\n",
        "$$\n",
        "A=\\begin{bmatrix} 1 & 1 \\\\ 4 & -10\\end{bmatrix} \\\\\n",
        "B=\\begin{bmatrix} 1 & 1 & 1 \\\\ 3 & -2 & -1 \\\\ -1 & 4 & 2\\end{bmatrix}\\\\\n",
        "C=\\begin{bmatrix} 1 & -2 & 3 & -4 \\\\ 3 & -1 & -2 & 1 \\\\ 2 & -1 & 3 & -2\\end{bmatrix}\\\\\n",
        "$$\n"
      ],
      "metadata": {
        "id": "8zsET1upL0pQ"
      }
    },
    {
      "cell_type": "markdown",
      "source": [
        "## Declaring Matrixes\n",
        "\n",
        "$$A=\\begin{bmatrix}\n",
        "a_{(0,0)}&a_{(0,1)}&\\dots&a_{(0,j-1)}\\\\\n",
        "a_{(1,0)}&a_{(1,1)}&\\dots&a_{(1,j-1)}\\\\\n",
        "\\vdots&\\vdots&\\ddots&\\vdots&\\\\\n",
        "a_{(i-1,0)}&a_{(i-1,1)}&\\dots&a_{(i-1,j-1)}\n",
        "\\end{bmatrix}\n",
        "$$\n",
        "\n",
        "We already gone over some of the types of matrices as vectors but we'll further discuss them in this laboratory activity. Since you already know how to describe vectors using shape, dimensions and size attributes, we'll use them to analyze these matrices.\n"
      ],
      "metadata": {
        "id": "AL4lCKKhQFM_"
      }
    },
    {
      "cell_type": "code",
      "source": [
        "## Since we'll keep on describing matrices. Let's make a function.\n",
        "\n",
        "def describe_mat(matrix):\n",
        "    print(f'Matrix:\\n{matrix}\\n\\nShape:\\t{matrix.shape}\\nRank:\\t{matrix.ndim}\\n')\n"
      ],
      "metadata": {
        "id": "qtW7NXWXQpUX"
      },
      "execution_count": 8,
      "outputs": []
    },
    {
      "cell_type": "code",
      "source": [
        "## Declaring a 2 x 2 matrix\n",
        "Mat_A = np.array([\n",
        "              [5,10],\n",
        "              [15,20]\n",
        "])\n",
        "describe_mat(Mat_A)\n",
        "\n"
      ],
      "metadata": {
        "id": "TXlL-o2iL7qC",
        "colab": {
          "base_uri": "https://localhost:8080/"
        },
        "outputId": "2743a220-fb63-415e-965b-6a53f55e2f37"
      },
      "execution_count": 9,
      "outputs": [
        {
          "output_type": "stream",
          "name": "stdout",
          "text": [
            "Matrix:\n",
            "[[ 5 10]\n",
            " [15 20]]\n",
            "\n",
            "Shape:\t(2, 2)\n",
            "Rank:\t2\n",
            "\n"
          ]
        }
      ]
    },
    {
      "cell_type": "markdown",
      "source": [
        "# Categorizing matrices\n",
        "\n",
        "There are several ways of classifying matrices. Once could be according to their shape and another is according to their element values. We'll try to go through them."
      ],
      "metadata": {
        "id": "vQWWxgP4Tpzu"
      }
    },
    {
      "cell_type": "markdown",
      "source": [
        "## According to shape"
      ],
      "metadata": {
        "id": "HmxvRbU5gkfD"
      }
    },
    {
      "cell_type": "markdown",
      "source": [
        "### row and column matrices\n",
        "\n",
        "Row and column matrices are common in vector and matrix computations. They can also represent row and column spaces of a bigger vector space. Row and column matrices are represented by a single column or single row. So with that being, the shape of row matrices would be 1 x j  and column matrices would be i x 1"
      ],
      "metadata": {
        "id": "N7owqUGGT0pD"
      }
    },
    {
      "cell_type": "code",
      "source": [
        "## Declaring a Row Matrix\n",
        "\n",
        "rowmatrix1D = np.array([\n",
        "    10, 20, 30, -40\n",
        "]) ## this is a 1-D Matrix with a shape of (4,), it's not really considered as a row matrix.\n",
        "row_mat_2D = np.array([\n",
        "    [2,4,6, -8]\n",
        "]) ## this is a 2-D Matrix with a shape of (1,3)\n",
        "describe_mat(rowmatrix1D)\n",
        "describe_mat(row_mat_2D)\n"
      ],
      "metadata": {
        "id": "gp_f9S7aT4Qq",
        "colab": {
          "base_uri": "https://localhost:8080/"
        },
        "outputId": "fa6b621e-f929-49f9-eb22-558ddd956580"
      },
      "execution_count": null,
      "outputs": [
        {
          "output_type": "stream",
          "name": "stdout",
          "text": [
            "Matrix:\n",
            "[ 10  20  30 -40]\n",
            "\n",
            "Shape:\t(4,)\n",
            "Rank:\t1\n",
            "\n",
            "Matrix:\n",
            "[[ 2  4  6 -8]]\n",
            "\n",
            "Shape:\t(1, 4)\n",
            "Rank:\t2\n",
            "\n"
          ]
        }
      ]
    },
    {
      "cell_type": "code",
      "source": [
        "col_mat = np.array([\n",
        "    [4],\n",
        "    [6],\n",
        "    [8]\n",
        "]) ## this is a 2-D Matrix with a shape of (3,1)\n",
        "describe_mat(col_mat)\n"
      ],
      "metadata": {
        "colab": {
          "base_uri": "https://localhost:8080/"
        },
        "id": "8npUcN7MUwAc",
        "outputId": "e4c8dd47-876f-45d3-8fe0-b6181a419266"
      },
      "execution_count": null,
      "outputs": [
        {
          "output_type": "stream",
          "name": "stdout",
          "text": [
            "Matrix:\n",
            "[[4]\n",
            " [6]\n",
            " [8]]\n",
            "\n",
            "Shape:\t(3, 1)\n",
            "Rank:\t2\n",
            "\n"
          ]
        }
      ]
    },
    {
      "cell_type": "markdown",
      "source": [
        "### Square Matrix"
      ],
      "metadata": {
        "id": "QOpCTVWrVOcq"
      }
    },
    {
      "cell_type": "code",
      "source": [
        "def describe_mat(matrix):\n",
        "    is_square = True if matrix.shape[0] == matrix.shape[1] else False \n",
        "    print(f'Matrix:\\n{matrix}\\n\\nShape:\\t{matrix.shape}\\nRank:\\t{matrix.ndim}\\nIs Square: {is_square}\\n')\n"
      ],
      "metadata": {
        "id": "8OsDAI6kVMqF"
      },
      "execution_count": null,
      "outputs": []
    },
    {
      "cell_type": "code",
      "source": [
        "square_mat = np.array([\n",
        "    [6,2,4],\n",
        "    [1,2,2],\n",
        "    [9,4,5]\n",
        "])\n",
        "\n",
        "non_square_mat = np.array([\n",
        "    [4,2,5],\n",
        "    [6,8,7]\n",
        "])\n",
        "describe_mat(square_mat)\n",
        "describe_mat(non_square_mat)\n"
      ],
      "metadata": {
        "colab": {
          "base_uri": "https://localhost:8080/"
        },
        "id": "jvpq0IU7Vgr4",
        "outputId": "752f606a-4f0f-4e2b-a07e-2a34c9a438b3"
      },
      "execution_count": null,
      "outputs": [
        {
          "output_type": "stream",
          "name": "stdout",
          "text": [
            "Matrix:\n",
            "[[6 2 4]\n",
            " [1 2 2]\n",
            " [9 4 5]]\n",
            "\n",
            "Shape:\t(3, 3)\n",
            "Rank:\t2\n",
            "Is Square: True\n",
            "\n",
            "Matrix:\n",
            "[[4 2 5]\n",
            " [6 8 7]]\n",
            "\n",
            "Shape:\t(2, 3)\n",
            "Rank:\t2\n",
            "Is Square: False\n",
            "\n"
          ]
        }
      ]
    },
    {
      "cell_type": "markdown",
      "source": [
        "# According to element values"
      ],
      "metadata": {
        "id": "DNpSSGBRWIPs"
      }
    },
    {
      "cell_type": "markdown",
      "source": [
        "## Null Matrix\n",
        "\n",
        "A Null Matrix is a matrix that has no elements. It is always a subspace of any vector or matrix."
      ],
      "metadata": {
        "id": "YCnmIzwxWJyz"
      }
    },
    {
      "cell_type": "code",
      "source": [
        "def describe_mat(matrix):\n",
        "    if matrix.size > 0:\n",
        "        is_square = True if matrix.shape[0] == matrix.shape[1] else False \n",
        "        print(f'Matrix:\\n{matrix}\\n\\nShape:\\t{matrix.shape}\\nRank:\\t{matrix.ndim}\\nIs Square: {is_square}\\n')\n",
        "    else:\n",
        "        print('Matrix is Null')\n"
      ],
      "metadata": {
        "id": "uz7y6bezWNHX"
      },
      "execution_count": null,
      "outputs": []
    },
    {
      "cell_type": "code",
      "source": [
        "null_matrix = np.array([\n",
        "    [6,2,4],\n",
        "    [1,2,2],\n",
        "    [9,4,5]\n",
        "])\n",
        "describe_mat(null_matrix)\n",
        "\n",
        "## If we put 0 inside [], it will not be null anymore"
      ],
      "metadata": {
        "colab": {
          "base_uri": "https://localhost:8080/"
        },
        "id": "NIh4C5dvWZBX",
        "outputId": "334befac-6eb1-4400-d4e7-d707bb74ba4a"
      },
      "execution_count": null,
      "outputs": [
        {
          "output_type": "stream",
          "name": "stdout",
          "text": [
            "Matrix:\n",
            "[[6 2 4]\n",
            " [1 2 2]\n",
            " [9 4 5]]\n",
            "\n",
            "Shape:\t(3, 3)\n",
            "Rank:\t2\n",
            "Is Square: True\n",
            "\n"
          ]
        }
      ]
    },
    {
      "cell_type": "markdown",
      "source": [
        "## Zero Matrices\n",
        "\n",
        "A zero matrix can be any rectangular matrix but with all elements having a value of 0"
      ],
      "metadata": {
        "id": "leakfABIXaef"
      }
    },
    {
      "cell_type": "code",
      "source": [
        "zero_mat_row = np.zeros((1,2))\n",
        "zero_mat_sqr = np.zeros((2,3))\n",
        "zero_mat_rct = np.zeros((4,3))\n",
        "\n",
        "print(f'Zero Row Matrix: \\n{zero_mat_row}')\n",
        "print(f'Zero Square Matrix: \\n{zero_mat_sqr}')\n",
        "print(f'Zero Rectangular Matrix: \\n{zero_mat_rct}')\n"
      ],
      "metadata": {
        "colab": {
          "base_uri": "https://localhost:8080/"
        },
        "id": "uGhsxzHfXYGw",
        "outputId": "0cf3feac-ecce-44b8-afa0-de1053440a19"
      },
      "execution_count": null,
      "outputs": [
        {
          "output_type": "stream",
          "name": "stdout",
          "text": [
            "Zero Row Matrix: \n",
            "[[0. 0.]]\n",
            "Zero Square Matrix: \n",
            "[[0. 0. 0.]\n",
            " [0. 0. 0.]]\n",
            "Zero Rectangular Matrix: \n",
            "[[0. 0. 0.]\n",
            " [0. 0. 0.]\n",
            " [0. 0. 0.]\n",
            " [0. 0. 0.]]\n"
          ]
        }
      ]
    },
    {
      "cell_type": "markdown",
      "source": [
        "## Ones Matrix"
      ],
      "metadata": {
        "id": "QP7oD_YGXjrJ"
      }
    },
    {
      "cell_type": "code",
      "source": [
        "ones_mat_row = np.ones((2,2))\n",
        "ones_mat_sqr = np.ones((2,2))\n",
        "ones_mat_rct = np.ones((5,5))\n",
        "\n",
        "print(f'Ones Row Matrix: \\n{ones_mat_row}')\n",
        "print(f'Ones Square Matrix: \\n{ones_mat_sqr}')\n",
        "print(f'Ones Rectangular Matrix: \\n{ones_mat_rct}')\n"
      ],
      "metadata": {
        "colab": {
          "base_uri": "https://localhost:8080/"
        },
        "id": "nw3PuduqXppA",
        "outputId": "d29fa71b-6f7f-4a31-b901-dffbe7a1406a"
      },
      "execution_count": null,
      "outputs": [
        {
          "output_type": "stream",
          "name": "stdout",
          "text": [
            "Ones Row Matrix: \n",
            "[[1. 1.]\n",
            " [1. 1.]]\n",
            "Ones Square Matrix: \n",
            "[[1. 1.]\n",
            " [1. 1.]]\n",
            "Ones Rectangular Matrix: \n",
            "[[1. 1. 1. 1. 1.]\n",
            " [1. 1. 1. 1. 1.]\n",
            " [1. 1. 1. 1. 1.]\n",
            " [1. 1. 1. 1. 1.]\n",
            " [1. 1. 1. 1. 1.]]\n"
          ]
        }
      ]
    },
    {
      "cell_type": "markdown",
      "source": [
        "## Diagonal Matrix\n",
        "\n",
        "there are values at the diagonal parts of the matrix"
      ],
      "metadata": {
        "id": "GgNRi_pAXq0s"
      }
    },
    {
      "cell_type": "code",
      "source": [
        "np.array([\n",
        "    [4,0,0,0],\n",
        "    [0,8,0,0],\n",
        "    [0,0,12,0],\n",
        "    [0,0,0,16]\n",
        "\n",
        "])\n",
        "\n",
        "## Manually inputed diagonal matrix"
      ],
      "metadata": {
        "colab": {
          "base_uri": "https://localhost:8080/"
        },
        "id": "nl90PCgbX817",
        "outputId": "3b5477f5-1ccb-4dbe-c6ef-aa279e1eea1f"
      },
      "execution_count": null,
      "outputs": [
        {
          "output_type": "execute_result",
          "data": {
            "text/plain": [
              "array([[ 4,  0,  0,  0],\n",
              "       [ 0,  8,  0,  0],\n",
              "       [ 0,  0, 12,  0],\n",
              "       [ 0,  0,  0, 16]])"
            ]
          },
          "metadata": {},
          "execution_count": 24
        }
      ]
    },
    {
      "cell_type": "code",
      "source": [
        "## Shortcut method\n",
        "diag_matrix1 = np.diag([4,8,12,16])\n",
        "diag_matrix2 = np.diag([2,4,6,8,10,12])\n",
        "\n",
        "print(f'first matrix:\\n {diag_matrix1}')\n",
        "print(f'second matrix: \\n {diag_matrix2}')"
      ],
      "metadata": {
        "colab": {
          "base_uri": "https://localhost:8080/"
        },
        "id": "B9En3oSKYC52",
        "outputId": "6ef78393-a523-4217-8349-3f4a9b8c4b16"
      },
      "execution_count": null,
      "outputs": [
        {
          "output_type": "stream",
          "name": "stdout",
          "text": [
            "first matrix:\n",
            " [[ 4  0  0  0]\n",
            " [ 0  8  0  0]\n",
            " [ 0  0 12  0]\n",
            " [ 0  0  0 16]]\n",
            "second matrix: \n",
            " [[ 2  0  0  0  0  0]\n",
            " [ 0  4  0  0  0  0]\n",
            " [ 0  0  6  0  0  0]\n",
            " [ 0  0  0  8  0  0]\n",
            " [ 0  0  0  0 10  0]\n",
            " [ 0  0  0  0  0 12]]\n"
          ]
        }
      ]
    },
    {
      "cell_type": "markdown",
      "source": [
        "## Identity matrix\n",
        "An identity matrix is a special diagonal matrix in which the values at the diagonal are ones."
      ],
      "metadata": {
        "id": "krlsbt2uY0e6"
      }
    },
    {
      "cell_type": "code",
      "source": [
        "np.eye(4)\n"
      ],
      "metadata": {
        "colab": {
          "base_uri": "https://localhost:8080/"
        },
        "id": "33nlpBjyY2Mc",
        "outputId": "d6f41047-57cf-41b3-e980-5cfd53345020"
      },
      "execution_count": null,
      "outputs": [
        {
          "output_type": "execute_result",
          "data": {
            "text/plain": [
              "array([[1., 0., 0., 0.],\n",
              "       [0., 1., 0., 0.],\n",
              "       [0., 0., 1., 0.],\n",
              "       [0., 0., 0., 1.]])"
            ]
          },
          "metadata": {},
          "execution_count": 29
        }
      ]
    },
    {
      "cell_type": "code",
      "source": [
        "np.identity(6)\n"
      ],
      "metadata": {
        "colab": {
          "base_uri": "https://localhost:8080/"
        },
        "id": "zzSenILbZA9X",
        "outputId": "1954cfda-edad-4bf1-dd2e-43a9683a7c59"
      },
      "execution_count": 7,
      "outputs": [
        {
          "output_type": "execute_result",
          "data": {
            "text/plain": [
              "array([[1., 0., 0., 0., 0., 0.],\n",
              "       [0., 1., 0., 0., 0., 0.],\n",
              "       [0., 0., 1., 0., 0., 0.],\n",
              "       [0., 0., 0., 1., 0., 0.],\n",
              "       [0., 0., 0., 0., 1., 0.],\n",
              "       [0., 0., 0., 0., 0., 1.]])"
            ]
          },
          "metadata": {},
          "execution_count": 7
        }
      ]
    },
    {
      "cell_type": "markdown",
      "source": [
        "## Upper triangular Matrix\n",
        "An upper triangular matrix is a matrix that has no values below the diagonal."
      ],
      "metadata": {
        "id": "zKZrcdH4ZMSq"
      }
    },
    {
      "cell_type": "code",
      "source": [
        "## np.triu(T_matrix) will convert a normal matrix to an upper triangular matrix\n",
        "T_matrix = np.array([\n",
        "              \n",
        "              [2, -3, 4, -5, 6],\n",
        "              [2, -3, 4, -5, 6],\n",
        "              [2, -3, 4, -5, 6],\n",
        "              [2, -3, 4, -5, 6],\n",
        "              [2, -3, 4, -5, 6],\n",
        "])\n",
        "np.triu(T_matrix)\n",
        "\n"
      ],
      "metadata": {
        "colab": {
          "base_uri": "https://localhost:8080/"
        },
        "id": "DnfzQnMAZQ-w",
        "outputId": "a48c194f-6782-4a19-b61a-ef2fa8975455"
      },
      "execution_count": null,
      "outputs": [
        {
          "output_type": "execute_result",
          "data": {
            "text/plain": [
              "array([[ 2, -3,  4, -5,  6],\n",
              "       [ 0, -3,  4, -5,  6],\n",
              "       [ 0,  0,  4, -5,  6],\n",
              "       [ 0,  0,  0, -5,  6],\n",
              "       [ 0,  0,  0,  0,  6]])"
            ]
          },
          "metadata": {},
          "execution_count": 31
        }
      ]
    },
    {
      "cell_type": "markdown",
      "source": [
        "## Lower Triangular Matrix\n",
        "\n",
        "A lower triangular matrix is a matrix that has no values above the diagonal."
      ],
      "metadata": {
        "id": "BvqPJUVoaHKR"
      }
    },
    {
      "cell_type": "code",
      "source": [
        "np.tril(T_matrix)"
      ],
      "metadata": {
        "colab": {
          "base_uri": "https://localhost:8080/"
        },
        "id": "9xCDT1vqaS75",
        "outputId": "bc293385-af4e-4193-a8b6-7fe511331ebe"
      },
      "execution_count": null,
      "outputs": [
        {
          "output_type": "execute_result",
          "data": {
            "text/plain": [
              "array([[ 2,  0,  0,  0,  0],\n",
              "       [ 2, -3,  0,  0,  0],\n",
              "       [ 2, -3,  4,  0,  0],\n",
              "       [ 2, -3,  4, -5,  0],\n",
              "       [ 2, -3,  4, -5,  6]])"
            ]
          },
          "metadata": {},
          "execution_count": 33
        }
      ]
    },
    {
      "cell_type": "markdown",
      "source": [
        "# **Practice**"
      ],
      "metadata": {
        "id": "gGGPnDVEDyot"
      }
    },
    {
      "cell_type": "markdown",
      "source": [
        ""
      ],
      "metadata": {
        "id": "hqNBC12WaWPC"
      }
    },
    {
      "cell_type": "markdown",
      "source": [
        "1. *Given the linear combination below, try to create a corresponding matrix representing it*\n",
        "\n",
        ":$$\\theta = 5x + 3y - z$$\n"
      ],
      "metadata": {
        "id": "Y0VNRH2Xb7Q1"
      }
    },
    {
      "cell_type": "code",
      "source": [
        "practice1 = np.array([5,3,-1])\n",
        "\n",
        "practice1"
      ],
      "metadata": {
        "colab": {
          "base_uri": "https://localhost:8080/"
        },
        "id": "GwXkqKnlZt7q",
        "outputId": "1e8dfa98-c399-4cb5-e83f-b8cdb1ed5493"
      },
      "execution_count": null,
      "outputs": [
        {
          "output_type": "execute_result",
          "data": {
            "text/plain": [
              "array([ 5,  3, -1])"
            ]
          },
          "metadata": {},
          "execution_count": 5
        }
      ]
    },
    {
      "cell_type": "markdown",
      "source": [
        "2. Given the system of linear combinations below, try to encode it as a matrix. Also describe the matrix.\n",
        "$$\n",
        "A = \\left\\{\\begin{array}\n",
        "5x_1 + 2x_2 +x_3\\\\\n",
        "4x_2 - x_3\\\\\n",
        "10x_3\n",
        "\\end{array}\\right.\n",
        "$$\n"
      ],
      "metadata": {
        "id": "2r5d0-xSb--x"
      }
    },
    {
      "cell_type": "code",
      "source": [
        "## Creating a function\n",
        "def m_describe(matrix):\n",
        "    print(f'Matrix:\\n{matrix}\\n\\nShape:\\t{matrix.shape}\\nRank:\\t{matrix.ndim}\\n')\n",
        "\n",
        "## Declaring matrix:\n",
        "practice2 = np.array([\n",
        "          (1,2,1),\n",
        "          (4,-2,0),\n",
        "          (10,0,0)\n",
        "])\n",
        "\n",
        "m_describe(practice2)"
      ],
      "metadata": {
        "id": "PqRL0My7aW7y",
        "colab": {
          "base_uri": "https://localhost:8080/"
        },
        "outputId": "3cc1b9c2-6efc-40e8-b0b6-45e2ae518245"
      },
      "execution_count": 3,
      "outputs": [
        {
          "output_type": "stream",
          "name": "stdout",
          "text": [
            "Matrix:\n",
            "[[ 1  2  1]\n",
            " [ 4 -2  0]\n",
            " [10  0  0]]\n",
            "\n",
            "Shape:\t(3, 3)\n",
            "Rank:\t2\n",
            "\n"
          ]
        }
      ]
    },
    {
      "cell_type": "markdown",
      "source": [
        "3. Given the matrix below, express it as a linear combination in a markdown and a LaTeX markdown\n"
      ],
      "metadata": {
        "id": "yVpPkKlrcCxc"
      }
    },
    {
      "cell_type": "code",
      "source": [
        "G = np.array([\n",
        "    [1,7,8],\n",
        "    [2,2,2],\n",
        "    [4,6,7]\n",
        "])\n",
        "\n",
        "G"
      ],
      "metadata": {
        "id": "2gGMlx9tcEkJ",
        "colab": {
          "base_uri": "https://localhost:8080/"
        },
        "outputId": "117d227d-e1ea-4802-977b-e17a299b1385"
      },
      "execution_count": 5,
      "outputs": [
        {
          "output_type": "execute_result",
          "data": {
            "text/plain": [
              "array([[1, 7, 8],\n",
              "       [2, 2, 2],\n",
              "       [4, 6, 7]])"
            ]
          },
          "metadata": {},
          "execution_count": 5
        }
      ]
    },
    {
      "cell_type": "markdown",
      "source": [
        "$$\n",
        "A = \\left\\{\\begin{array}\n",
        "1x_3 + 7x_2 +8x\\\\\n",
        "2x_3 + 2x_2 + 2x\\\\\n",
        "4x_3 + 6x_2 + 7x\n",
        "\\end{array}\\right.\n",
        "$$"
      ],
      "metadata": {
        "id": "Y14nlKvpCiAb"
      }
    },
    {
      "cell_type": "markdown",
      "source": [
        "4. Given the matrix below, display the output as a LaTeX markdown also express it as a system of linear combinations.\n"
      ],
      "metadata": {
        "id": "joVZyQ3rcH2g"
      }
    },
    {
      "cell_type": "code",
      "source": [
        "H = np.tril(G)\n",
        "H\n"
      ],
      "metadata": {
        "id": "mYOvqRYfcJvP",
        "colab": {
          "base_uri": "https://localhost:8080/"
        },
        "outputId": "e6e3e83b-8dfe-41e4-d443-4ae0a40f46b0"
      },
      "execution_count": 6,
      "outputs": [
        {
          "output_type": "execute_result",
          "data": {
            "text/plain": [
              "array([[1, 0, 0],\n",
              "       [2, 2, 0],\n",
              "       [4, 6, 7]])"
            ]
          },
          "metadata": {},
          "execution_count": 6
        }
      ]
    },
    {
      "cell_type": "markdown",
      "source": [
        "$$\n",
        "A = \\left\\{\\begin{array}\n",
        "1x_3 \\\\\n",
        "2x_3 + 2x_2 \\\\\n",
        "4x_3 + 6x_2 + 7x\n",
        "\\end{array}\\right.\n",
        "$$"
      ],
      "metadata": {
        "id": "tPggIa0VDYYG"
      }
    },
    {
      "cell_type": "markdown",
      "source": [
        "#Matrix Algebra"
      ],
      "metadata": {
        "id": "47ejsQsaFo39"
      }
    },
    {
      "cell_type": "markdown",
      "source": [
        "**ADDITION**"
      ],
      "metadata": {
        "id": "8gfJR1IrFtiT"
      }
    },
    {
      "cell_type": "code",
      "source": [
        "A = np.array([\n",
        "    [3,6],\n",
        "    [9,12],\n",
        "    [2,4]\n",
        "])\n",
        "B = np.array([\n",
        "    [1,2],\n",
        "    [3,0],\n",
        "    [4,5]\n",
        "])\n",
        "A+B"
      ],
      "metadata": {
        "colab": {
          "base_uri": "https://localhost:8080/"
        },
        "id": "TdanFMfkFvAc",
        "outputId": "3c3cba5f-8d01-4150-e4be-74dc799e0d06"
      },
      "execution_count": null,
      "outputs": [
        {
          "output_type": "execute_result",
          "data": {
            "text/plain": [
              "array([[ 4,  8],\n",
              "       [12, 12],\n",
              "       [ 6,  9]])"
            ]
          },
          "metadata": {},
          "execution_count": 36
        }
      ]
    },
    {
      "cell_type": "code",
      "source": [
        "5+A ##Broadcasting\n",
        "# 2*np.ones(A.shape)+A"
      ],
      "metadata": {
        "colab": {
          "base_uri": "https://localhost:8080/"
        },
        "id": "KR8Ir3ZQF8Fj",
        "outputId": "b0622971-be34-4a72-d4c3-cf12b97a7ca0"
      },
      "execution_count": null,
      "outputs": [
        {
          "output_type": "execute_result",
          "data": {
            "text/plain": [
              "array([[ 8, 11],\n",
              "       [14, 17],\n",
              "       [ 7,  9]])"
            ]
          },
          "metadata": {},
          "execution_count": 38
        }
      ]
    },
    {
      "cell_type": "markdown",
      "source": [
        "**SUBTRACTION**"
      ],
      "metadata": {
        "id": "omAQew6dGTFk"
      }
    },
    {
      "cell_type": "code",
      "source": [
        "A-B"
      ],
      "metadata": {
        "colab": {
          "base_uri": "https://localhost:8080/"
        },
        "id": "MKekzy69GV7m",
        "outputId": "50f3ff40-f634-4d02-d383-e966b1d6ec76"
      },
      "execution_count": null,
      "outputs": [
        {
          "output_type": "execute_result",
          "data": {
            "text/plain": [
              "array([[ 2,  4],\n",
              "       [ 6, 12],\n",
              "       [-2, -1]])"
            ]
          },
          "metadata": {},
          "execution_count": 39
        }
      ]
    },
    {
      "cell_type": "code",
      "source": [
        "6-B"
      ],
      "metadata": {
        "colab": {
          "base_uri": "https://localhost:8080/"
        },
        "id": "f1Fz3ifiGkFp",
        "outputId": "1add3097-0ffb-434c-ea13-3dd3f36fca93"
      },
      "execution_count": null,
      "outputs": [
        {
          "output_type": "execute_result",
          "data": {
            "text/plain": [
              "array([[5, 4],\n",
              "       [3, 6],\n",
              "       [2, 1]])"
            ]
          },
          "metadata": {},
          "execution_count": 40
        }
      ]
    },
    {
      "cell_type": "markdown",
      "source": [
        "**ELEMENT-WISE MULTIPLICATION**"
      ],
      "metadata": {
        "id": "DDM2QATLGmwz"
      }
    },
    {
      "cell_type": "code",
      "source": [
        "#You can use either A*B or np.multiply(A,B)\n",
        "\n",
        "A*B"
      ],
      "metadata": {
        "colab": {
          "base_uri": "https://localhost:8080/"
        },
        "id": "-WNapCVeGsuj",
        "outputId": "f750f02d-a51b-46c0-ec53-738fde511265"
      },
      "execution_count": null,
      "outputs": [
        {
          "output_type": "execute_result",
          "data": {
            "text/plain": [
              "array([[ 3, 12],\n",
              "       [27,  0],\n",
              "       [ 8, 20]])"
            ]
          },
          "metadata": {},
          "execution_count": 42
        }
      ]
    },
    {
      "cell_type": "code",
      "source": [
        "3*B"
      ],
      "metadata": {
        "colab": {
          "base_uri": "https://localhost:8080/"
        },
        "id": "jRMfeTnTG2nF",
        "outputId": "f8bb21a0-1594-4a3f-8cf9-06fb6478b431"
      },
      "execution_count": null,
      "outputs": [
        {
          "output_type": "execute_result",
          "data": {
            "text/plain": [
              "array([[ 3,  6],\n",
              "       [ 9,  0],\n",
              "       [12, 15]])"
            ]
          },
          "metadata": {},
          "execution_count": 43
        }
      ]
    },
    {
      "cell_type": "code",
      "source": [
        "A@B"
      ],
      "metadata": {
        "id": "fbz2BinfHFLQ"
      },
      "execution_count": null,
      "outputs": []
    },
    {
      "cell_type": "markdown",
      "source": [
        "alpha=10**-10\n",
        "A/(alpha+8)"
      ],
      "metadata": {
        "id": "PK8ESFI0H3NF"
      }
    },
    {
      "cell_type": "code",
      "source": [
        "alpha=10**-10\n",
        "A/(alpha+8)"
      ],
      "metadata": {
        "colab": {
          "base_uri": "https://localhost:8080/"
        },
        "id": "YKl2VR2nIG9t",
        "outputId": "1935b1c3-6db2-4e21-9b5a-6161da7d2cb6"
      },
      "execution_count": null,
      "outputs": [
        {
          "output_type": "execute_result",
          "data": {
            "text/plain": [
              "array([[0.375, 0.75 ],\n",
              "       [1.125, 1.5  ],\n",
              "       [0.25 , 0.5  ]])"
            ]
          },
          "metadata": {},
          "execution_count": 45
        }
      ]
    },
    {
      "cell_type": "code",
      "source": [
        "np.add(A,B)"
      ],
      "metadata": {
        "colab": {
          "base_uri": "https://localhost:8080/"
        },
        "id": "FbjjLmkoIPWy",
        "outputId": "6e7dc6d9-d567-4723-a38c-e2dbafb9af54"
      },
      "execution_count": null,
      "outputs": [
        {
          "output_type": "execute_result",
          "data": {
            "text/plain": [
              "array([[ 4,  8],\n",
              "       [12, 12],\n",
              "       [ 6,  9]])"
            ]
          },
          "metadata": {},
          "execution_count": 47
        }
      ]
    },
    {
      "cell_type": "markdown",
      "source": [
        ""
      ],
      "metadata": {
        "id": "LQGUP7cyI3xd"
      }
    },
    {
      "cell_type": "markdown",
      "source": [
        "# Activity"
      ],
      "metadata": {
        "id": "GvmPw2EO75k2"
      }
    },
    {
      "cell_type": "markdown",
      "source": [
        "## Task 1\n",
        "Create a function named mat_desc() that througouhly describes a matrix, it should:\n",
        "\n",
        "1. Displays the shape, size, and rank of the matrix.\n",
        "2. Displays whether the matrix is square or non-square.\n",
        "3. Displays whether the matrix is an empty matrix.\n",
        "4. Displays if the matrix is an identity, ones, or zeros matrix\n"
      ],
      "metadata": {
        "id": "p6-B0ZdP78Nf"
      }
    },
    {
      "cell_type": "code",
      "source": [
        "## Function Area\n",
        "def mat_desc(mat):\n",
        "    sq = False\n",
        "    mat = np.array(mat)\n",
        "    print(mat)\n",
        "    print('Shape:', mat.shape)\n",
        "    print('Size:', mat.size)\n",
        "    print('Rank:', np.linalg.matrix_rank(mat))\n",
        "    if(mat.shape[0] == mat.shape[1]):\n",
        "        sq = True\n",
        "        print('The matrix is square')\n",
        "    else:\n",
        "        print('The matrix is non-square')\n",
        "    if(mat.shape[0] == 0 and mat.shape[1] == 0):\n",
        "        print('The matrix is empty')\n",
        "    else:\n",
        "        print('The matrix is not empty')\n",
        "    iden = np.identity(mat.shape[0])\n",
        "    if(sq and (iden == mat).all()):\n",
        "        print('The matrix is an identity matrix')\n",
        "    else:\n",
        "        print('The matrix is not an identity matrix')\n",
        "    one = np.ones((mat.shape[0], mat.shape[1]))\n",
        "    if((one == mat).all()):\n",
        "        print('The matrix is an ones matrix')\n",
        "    else:\n",
        "        print('The matrix is not an ones matrix')\n",
        "    zero = np.zeros((mat.shape[0], mat.shape[1]))\n",
        "    if((zero == mat).all()):\n",
        "        print('The matrix is an zeros matrix')\n",
        "    else:\n",
        "        print('The matrix is not a zeros matrix')\n",
        "\n"
      ],
      "metadata": {
        "id": "UpXYR7uR8TLi"
      },
      "execution_count": 10,
      "outputs": []
    },
    {
      "cell_type": "code",
      "source": [
        "## Matrix Declaration\n",
        "##matrix 1\n",
        "mat_1 = np.array([\n",
        "    [1,2,5],\n",
        "    [3,3,8],\n",
        "    [6,1,2]\n",
        "])\n",
        "##matrix 2\n",
        "mat_2 = np.ones((3,4))\n",
        "##matrix 3\n",
        "mat_3 = np.zeros((3,3))"
      ],
      "metadata": {
        "id": "eGfZrzlwBYDS"
      },
      "execution_count": 11,
      "outputs": []
    },
    {
      "cell_type": "code",
      "source": [
        "## Test Areas\n",
        "print('matrix 1:')\n",
        "mat_desc(mat_1)\n",
        "print('\\nmatrix 2: ')\n",
        "mat_desc(mat_2)\n",
        "print('\\nmatrix 3: ')\n",
        "mat_desc(mat_3)"
      ],
      "metadata": {
        "id": "NY-n3nI1jC-g",
        "colab": {
          "base_uri": "https://localhost:8080/"
        },
        "outputId": "40c86304-3192-45c6-e0fd-2f424214f1c2"
      },
      "execution_count": 12,
      "outputs": [
        {
          "output_type": "stream",
          "name": "stdout",
          "text": [
            "matrix 1:\n",
            "[[1 2 5]\n",
            " [3 3 8]\n",
            " [6 1 2]]\n",
            "Shape: (3, 3)\n",
            "Size: 9\n",
            "Rank: 3\n",
            "The matrix is square\n",
            "The matrix is not empty\n",
            "The matrix is not an identity matrix\n",
            "The matrix is not an ones matrix\n",
            "The matrix is not a zeros matrix\n",
            "\n",
            "matrix 2: \n",
            "[[1. 1. 1. 1.]\n",
            " [1. 1. 1. 1.]\n",
            " [1. 1. 1. 1.]]\n",
            "Shape: (3, 4)\n",
            "Size: 12\n",
            "Rank: 1\n",
            "The matrix is non-square\n",
            "The matrix is not empty\n",
            "The matrix is not an identity matrix\n",
            "The matrix is an ones matrix\n",
            "The matrix is not a zeros matrix\n",
            "\n",
            "matrix 3: \n",
            "[[0. 0. 0.]\n",
            " [0. 0. 0.]\n",
            " [0. 0. 0.]]\n",
            "Shape: (3, 3)\n",
            "Size: 9\n",
            "Rank: 0\n",
            "The matrix is square\n",
            "The matrix is not empty\n",
            "The matrix is not an identity matrix\n",
            "The matrix is not an ones matrix\n",
            "The matrix is an zeros matrix\n"
          ]
        }
      ]
    },
    {
      "cell_type": "markdown",
      "source": [
        "##Task 2\n",
        "Create a function named mat_operations() that takes in two matrices a input parameters it should:\n",
        "\n",
        "1. Determines if the matrices are viable for operation and returns your own error message if they are not viable.\n",
        "2. Returns the sum of the matrices.\n",
        "3. Returns the differen of the matrices.\n",
        "4. Returns the element-wise multiplication of the matrices\n",
        "5. Returns the element-wise division of the matrices.\n"
      ],
      "metadata": {
        "id": "3FUlAumdfJoF"
      }
    },
    {
      "cell_type": "code",
      "source": [
        "def mat_operations(matrix):\n",
        "  print (f'{matrix}')"
      ],
      "metadata": {
        "id": "N6ZygV__foKp"
      },
      "execution_count": 13,
      "outputs": []
    },
    {
      "cell_type": "code",
      "source": [
        "## Matrix 1\n",
        "row1 = int(input(\"enter the row number of the first matrix: \" ))\n",
        "col1 = int(input(\"enter the column number of the first matrix: \"))\n",
        "\n",
        "print('enter', row1*col1, 'elements for matrix 1: ')\n",
        "matrix1 = list(map(int, input().split()))\n",
        "r_matrix1 = np.array(matrix1).reshape(row1,col1)\n",
        "print(\"matrix 1 is: \")\n",
        "mat_operations(r_matrix1)\n",
        "\n",
        "## Matrix 2\n",
        "row2 = int(input(\"\\nenter the row number of the second matrix: \" ))\n",
        "col2 = int(input(\"enter the column number of the second matrix: \"))\n",
        "\n",
        "print('enter', row2*col2, 'elements for matrix 2: ')\n",
        "matrix2 = list(map(int, input().split()))\n",
        "r_matrix2 = np.array(matrix2).reshape(row2,col2)\n",
        "print(\"matrix 2 is: \")\n",
        "mat_operations(r_matrix2)\n",
        "\n",
        "## Matrix 3\n",
        "row3 = int(input(\"\\nenter the row number of the third matrix: \" ))\n",
        "col3 = int(input(\"enter the column number of the third matrix: \"))\n",
        "\n",
        "print('enter', row3*col3, 'elements for matrix 3: ')\n",
        "matrix3 = list(map(int, input().split()))\n",
        "r_matrix3 = np.array(matrix3).reshape(row3,col3)\n",
        "print(\"matrix 3 is: \")\n",
        "mat_operations(r_matrix3)\n",
        "\n",
        "first = r_matrix1\n",
        "second = r_matrix2\n",
        "third = r_matrix3\n",
        "### ADDITION ----------------------------------------------------------------\n",
        "print('\\nselect two matrices to to add. (Note: use first, second, third, to select the matrices)')\n",
        "firstadd = str(input(\"matrix #: \"))\n",
        "print('+') \n",
        "secondadd =str(input(\"matrix #: \"))\n",
        "\n",
        "result = (eval(firstadd).shape == eval(secondadd).shape)\n",
        "if result:\n",
        "  print('\\nThe sum of the',firstadd,'and',secondadd,'matrix is: ')\n",
        "  print(eval(firstadd)+eval(secondadd))\n",
        "else:\n",
        "  print('\\nOperation not viable, check matrix dimensions.') \n",
        "\n",
        "###SUBTRACTION--------------------------------------------------------------\n",
        "print('\\nselect two matrices to to subtract')\n",
        "firstsubb = str(input(\"matrix #: \")) \n",
        "print('-') \n",
        "secondsubb =str(input(\"matrix #: \"))\n",
        "\n",
        "result = (eval(firstsubb).shape == eval(secondsubb).shape)\n",
        "if result:\n",
        "  print('\\nThe difference of the',firstsubb,'and',secondsubb,'matrix is: ')\n",
        "  print(eval(firstsubb)-eval(secondsubb))\n",
        "else:\n",
        "  print('\\nOperation not viable, check matrix dimensions.') \n",
        "\n",
        "###ELEMENT-WISE MULTIPLICATION----------------------------------------------\n",
        "print('\\nselect two matrices to multiply')\n",
        "firstmult = str(input(\"matrix #: \"))\n",
        "print('x') \n",
        "secondmult =str(input(\"matrix #: \"))\n",
        "\n",
        "result = (eval(firstmult).shape == eval(secondmult).shape)\n",
        "if result:\n",
        "  print('\\nThe product of the',firstmult,'and',secondmult,'matrix is: ')\n",
        "  print(eval(firstmult)*eval(secondmult))\n",
        "else:\n",
        "  print('\\nOperation not viable, check matrix dimensions.') \n",
        "\n",
        "### ELEMENT-WISE DIVISION --------------------------------------------------\n",
        "print('\\nselect two matrices to divide')\n",
        "firstdiv = str(input(\"matrix #: \"))\n",
        "print('/')\n",
        "seconddiv =str(input(\"matrix #: \"))\n",
        "\n",
        "result = (eval(firstdiv).shape == eval(seconddiv).shape)\n",
        "if result:\n",
        "  print('\\nThe product of the',firstdiv,'and',seconddiv,'matrix is: ')\n",
        "  print(eval(firstdiv)/eval(seconddiv))\n",
        "else: \n",
        "  print('\\nOperation not viable, check matrix dimensions.') "
      ],
      "metadata": {
        "colab": {
          "base_uri": "https://localhost:8080/"
        },
        "id": "g967KXCtfekO",
        "outputId": "5454b5f4-39ef-4a6c-f1df-ce4d1bd8b95e"
      },
      "execution_count": 14,
      "outputs": [
        {
          "output_type": "stream",
          "name": "stdout",
          "text": [
            "enter the row number of the first matrix: 3\n",
            "enter the column number of the first matrix: 4\n",
            "enter 12 elements for matrix 1: \n",
            "2 3 4 1 2 4 5 3 4 7 2 3\n",
            "matrix 1 is: \n",
            "[[2 3 4 1]\n",
            " [2 4 5 3]\n",
            " [4 7 2 3]]\n",
            "\n",
            "enter the row number of the second matrix: 3\n",
            "enter the column number of the second matrix: 4\n",
            "enter 12 elements for matrix 2: \n",
            "2 3 1 4 5 2 2 2 2 3 3 4\n",
            "matrix 2 is: \n",
            "[[2 3 1 4]\n",
            " [5 2 2 2]\n",
            " [2 3 3 4]]\n",
            "\n",
            "enter the row number of the third matrix: 3\n",
            "enter the column number of the third matrix: 3\n",
            "enter 9 elements for matrix 3: \n",
            "2 3 1 1 4 1 1 4 1\n",
            "matrix 3 is: \n",
            "[[2 3 1]\n",
            " [1 4 1]\n",
            " [1 4 1]]\n",
            "\n",
            "select two matrices to to add. (Note: use first, second, third, to select the matrices)\n",
            "matrix #: first\n",
            "+\n",
            "matrix #: second\n",
            "\n",
            "The sum of the first and second matrix is: \n",
            "[[ 4  6  5  5]\n",
            " [ 7  6  7  5]\n",
            " [ 6 10  5  7]]\n",
            "\n",
            "select two matrices to to subtract\n",
            "matrix #: first\n",
            "-\n",
            "matrix #: third\n",
            "\n",
            "Operation not viable, check matrix dimensions.\n",
            "\n",
            "select two matrices to multiply\n",
            "matrix #: first\n",
            "x\n",
            "matrix #: second\n",
            "\n",
            "The product of the first and second matrix is: \n",
            "[[ 4  9  4  4]\n",
            " [10  8 10  6]\n",
            " [ 8 21  6 12]]\n",
            "\n",
            "select two matrices to divide\n",
            "matrix #: first\n",
            "/\n",
            "matrix #: second\n",
            "\n",
            "The product of the first and second matrix is: \n",
            "[[1.         1.         4.         0.25      ]\n",
            " [0.4        2.         2.5        1.5       ]\n",
            " [2.         2.33333333 0.66666667 0.75      ]]\n"
          ]
        }
      ]
    }
  ]
}