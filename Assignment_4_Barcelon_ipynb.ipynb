{
  "nbformat": 4,
  "nbformat_minor": 0,
  "metadata": {
    "colab": {
      "name": "Assignment 4-Barcelon. ipynb",
      "provenance": [],
      "toc_visible": true,
      "authorship_tag": "ABX9TyP1FtBmsIVJBRxcoOM6YXjh",
      "include_colab_link": true
    },
    "kernelspec": {
      "name": "python3",
      "display_name": "Python 3"
    },
    "language_info": {
      "name": "python"
    }
  },
  "cells": [
    {
      "cell_type": "markdown",
      "metadata": {
        "id": "view-in-github",
        "colab_type": "text"
      },
      "source": [
        "<a href=\"https://colab.research.google.com/github/JuanBarcelon/Linear_Algebra_ChE_2nd-Sem-2021-2022/blob/main/Assignment_4_Barcelon_ipynb.ipynb\" target=\"_parent\"><img src=\"https://colab.research.google.com/assets/colab-badge.svg\" alt=\"Open In Colab\"/></a>"
      ]
    },
    {
      "cell_type": "markdown",
      "source": [
        "#Laboratory 6: Matrix Operations\n",
        "\n",
        "Objectives:\n",
        "1. Be familiar with the fundamental matrix operations.\n",
        "2. Apply the operation to solve intermediate equations.\n",
        "3. Apply matrix algebra in engineering solutions."
      ],
      "metadata": {
        "id": "n5TVF7eqobXp"
      }
    },
    {
      "cell_type": "markdown",
      "source": [
        "#Discussion"
      ],
      "metadata": {
        "id": "FhRq8f_jpEaL"
      }
    },
    {
      "cell_type": "code",
      "source": [
        "import numpy as np\n",
        "import matplotlib.pyplot as plt\n",
        "%matplotlib inline"
      ],
      "metadata": {
        "id": "UL-m1QKdVIlM"
      },
      "execution_count": 1,
      "outputs": []
    },
    {
      "cell_type": "markdown",
      "source": [
        "#Transposition\n",
        "\n",
        "$$A = \\begin{bmatrix} 1 & 2 & 5\\\\5 & -1 &0 \\\\ 0 & -3 & 3\\end{bmatrix} $$\n",
        "\n",
        "$$A^T = \\begin{bmatrix} 1 & 2 & 5\\\\5 & -1 &0 \\\\ 0 & -3 & 3\\end{bmatrix} $$\n",
        "\n",
        "This can now be achieved programmatically by using np.transpose() or using the T method.\n"
      ],
      "metadata": {
        "id": "tf7iSGXmUPbK"
      }
    },
    {
      "cell_type": "code",
      "source": [
        "Mat1 = np.array([\n",
        "    [5 ,3, 5],\n",
        "    [1, -6, 6],\n",
        "    [7, -2, 4]\n",
        "])\n",
        "Mat1"
      ],
      "metadata": {
        "colab": {
          "base_uri": "https://localhost:8080/"
        },
        "id": "mYAwlio5VGJF",
        "outputId": "7da16e03-a8f4-4cfc-89c5-acdbeeb23571"
      },
      "execution_count": null,
      "outputs": [
        {
          "output_type": "execute_result",
          "data": {
            "text/plain": [
              "array([[ 5,  3,  5],\n",
              "       [ 1, -6,  6],\n",
              "       [ 7, -2,  4]])"
            ]
          },
          "metadata": {},
          "execution_count": 3
        }
      ]
    },
    {
      "cell_type": "code",
      "source": [
        "## To Transpose the matrix..\n",
        "Matv2 = np.transpose(Mat1)\n",
        "Matv2"
      ],
      "metadata": {
        "colab": {
          "base_uri": "https://localhost:8080/"
        },
        "id": "nYwz4E2LVKxs",
        "outputId": "11ee00d3-ab55-4369-ad72-11b93b722789"
      },
      "execution_count": null,
      "outputs": [
        {
          "output_type": "execute_result",
          "data": {
            "text/plain": [
              "array([[ 5,  1,  7],\n",
              "       [ 3, -6, -2],\n",
              "       [ 5,  6,  4]])"
            ]
          },
          "metadata": {},
          "execution_count": 5
        }
      ]
    },
    {
      "cell_type": "code",
      "source": [
        "## Another way to transpose a matrix\n",
        "MatT = Mat1.T\n",
        "MatT"
      ],
      "metadata": {
        "colab": {
          "base_uri": "https://localhost:8080/"
        },
        "id": "7C2IPauaVWwq",
        "outputId": "f4cb1990-87c1-4042-bccd-b685d9113910"
      },
      "execution_count": null,
      "outputs": [
        {
          "output_type": "execute_result",
          "data": {
            "text/plain": [
              "array([[ 5,  1,  7],\n",
              "       [ 3, -6, -2],\n",
              "       [ 5,  6,  4]])"
            ]
          },
          "metadata": {},
          "execution_count": 6
        }
      ]
    },
    {
      "cell_type": "code",
      "source": [
        "## To check if the elements of the 2 matrices are equal\n",
        "np.array_equiv(Matv2, MatT) \n"
      ],
      "metadata": {
        "colab": {
          "base_uri": "https://localhost:8080/"
        },
        "id": "mUXnQgoCVi-E",
        "outputId": "bc9590a1-183b-4af3-c76a-e68237739394"
      },
      "execution_count": null,
      "outputs": [
        {
          "output_type": "execute_result",
          "data": {
            "text/plain": [
              "True"
            ]
          },
          "metadata": {},
          "execution_count": 16
        }
      ]
    },
    {
      "cell_type": "code",
      "source": [
        "B = np.array([\n",
        "    [1,2,3,4,5,6,7,8,9,0,1,2],\n",
        "    [1,0,2,1,0,2,1,0,2,1,0,2],\n",
        "])\n",
        "B.shape"
      ],
      "metadata": {
        "colab": {
          "base_uri": "https://localhost:8080/"
        },
        "id": "hfapkZyPYK0J",
        "outputId": "7f3db626-cfc9-4668-f49b-a3b269b9abd1"
      },
      "execution_count": null,
      "outputs": [
        {
          "output_type": "execute_result",
          "data": {
            "text/plain": [
              "(2, 12)"
            ]
          },
          "metadata": {},
          "execution_count": 17
        }
      ]
    },
    {
      "cell_type": "code",
      "source": [
        "np.transpose(B).shape"
      ],
      "metadata": {
        "colab": {
          "base_uri": "https://localhost:8080/"
        },
        "id": "9zofX00nYNnj",
        "outputId": "cda6fa4c-c2ae-4557-8915-aed40a6b476f"
      },
      "execution_count": null,
      "outputs": [
        {
          "output_type": "execute_result",
          "data": {
            "text/plain": [
              "(12, 2)"
            ]
          },
          "metadata": {},
          "execution_count": 18
        }
      ]
    },
    {
      "cell_type": "code",
      "source": [
        "B.T.shape"
      ],
      "metadata": {
        "colab": {
          "base_uri": "https://localhost:8080/"
        },
        "id": "7Mo986NDYPKq",
        "outputId": "b9959d71-5b96-44f4-a153-c70eae801ffd"
      },
      "execution_count": null,
      "outputs": [
        {
          "output_type": "execute_result",
          "data": {
            "text/plain": [
              "(12, 2)"
            ]
          },
          "metadata": {},
          "execution_count": 19
        }
      ]
    },
    {
      "cell_type": "markdown",
      "source": [
        "## Try to create your own matrix(you can try non-squares) to test transposition"
      ],
      "metadata": {
        "id": "FOphE9WJqoy5"
      }
    },
    {
      "cell_type": "code",
      "source": [
        "## Try out your code here.\n",
        "NB=np.array([\n",
        "      [2,5,4,5,1,7],\n",
        "      [3,1,6,6,7,6],\n",
        "      [3,3,2,2,1,1]\n",
        "])\n",
        "NB.shape"
      ],
      "metadata": {
        "id": "gWmd4iyrY0Sz",
        "colab": {
          "base_uri": "https://localhost:8080/"
        },
        "outputId": "d165624e-fc69-425c-9647-0bcb2a222d9e"
      },
      "execution_count": null,
      "outputs": [
        {
          "output_type": "execute_result",
          "data": {
            "text/plain": [
              "(3, 6)"
            ]
          },
          "metadata": {},
          "execution_count": 7
        }
      ]
    },
    {
      "cell_type": "code",
      "source": [
        "np.transpose(NB).shape"
      ],
      "metadata": {
        "colab": {
          "base_uri": "https://localhost:8080/"
        },
        "id": "lcNop__-rJGs",
        "outputId": "74ad73fc-c433-4acd-dab2-c08df84ad8f4"
      },
      "execution_count": null,
      "outputs": [
        {
          "output_type": "execute_result",
          "data": {
            "text/plain": [
              "(6, 3)"
            ]
          },
          "metadata": {},
          "execution_count": 8
        }
      ]
    },
    {
      "cell_type": "code",
      "source": [
        "NB.T.shape"
      ],
      "metadata": {
        "colab": {
          "base_uri": "https://localhost:8080/"
        },
        "id": "0LglP0ptrSDu",
        "outputId": "1209efbc-9d35-48fd-e27f-527e0cfb8ee2"
      },
      "execution_count": null,
      "outputs": [
        {
          "output_type": "execute_result",
          "data": {
            "text/plain": [
              "(6, 3)"
            ]
          },
          "metadata": {},
          "execution_count": 9
        }
      ]
    },
    {
      "cell_type": "code",
      "source": [
        "A_B = NB.T\n",
        "A_B"
      ],
      "metadata": {
        "colab": {
          "base_uri": "https://localhost:8080/"
        },
        "id": "IUq0ISRsrU88",
        "outputId": "adc6abb1-2594-421c-e324-f33b0719c560"
      },
      "execution_count": null,
      "outputs": [
        {
          "output_type": "execute_result",
          "data": {
            "text/plain": [
              "array([[2, 3, 3],\n",
              "       [5, 1, 3],\n",
              "       [4, 6, 2],\n",
              "       [5, 6, 2],\n",
              "       [1, 7, 1],\n",
              "       [7, 6, 1]])"
            ]
          },
          "metadata": {},
          "execution_count": 11
        }
      ]
    },
    {
      "cell_type": "markdown",
      "source": [
        "#Dot Product / Inner Product\n",
        "If you recall the dot product from laboratory activity before, we will try to implement the same operation with matrices. In matrix dot product we are going to get the sum of products of the vectors by row-column pairs. So if we have two matrices $X$ and $Y$:\n",
        "\n",
        "$$X = \\begin{bmatrix}x_{(0,0)}&x_{(0,1)}\\\\ x_{(1,0)}&x_{(1,1)}\\end{bmatrix}, Y = \\begin{bmatrix}y_{(0,0)}&y_{(0,1)}\\\\ y_{(1,0)}&y_{(1,1)}\\end{bmatrix}$$\n",
        "\n",
        "The dot product will then be computed as:\n",
        "$$X \\cdot Y= \\begin{bmatrix} x_{(0,0)}*y_{(0,0)} + x_{(0,1)}*y_{(1,0)} & x_{(0,0)}*y_{(0,1)} + x_{(0,1)}*y_{(1,1)} \\\\  x_{(1,0)}*y_{(0,0)} + x_{(1,1)}*y_{(1,0)} & x_{(1,0)}*y_{(0,1)} + x_{(1,1)}*y_{(1,1)}\n",
        "\\end{bmatrix}$$\n",
        "\n",
        "So if we assign values to $X$ and $Y$:\n",
        "$$X = \\begin{bmatrix}1&2\\\\ 0&1\\end{bmatrix}, Y = \\begin{bmatrix}-1&0\\\\ 2&2\\end{bmatrix}$$\n",
        " \n",
        "This could be achieved programmatically using np.dot(), np.matmul() or the @ operator."
      ],
      "metadata": {
        "id": "jhGiWBzGY4NM"
      }
    },
    {
      "cell_type": "code",
      "source": [
        "yo = np.array([\n",
        "    [3,3,1],\n",
        "    [0,1,3],\n",
        "    [3,2,2]\n",
        "])\n",
        "wow = np.array([\n",
        "    [-2,4,6],\n",
        "    [8,6,4],\n",
        "    [2,3,1]\n",
        "])\n"
      ],
      "metadata": {
        "id": "UvI4fiLXY3kC"
      },
      "execution_count": null,
      "outputs": []
    },
    {
      "cell_type": "code",
      "source": [
        "np.array_equiv(yo, wow)"
      ],
      "metadata": {
        "colab": {
          "base_uri": "https://localhost:8080/"
        },
        "id": "tTXFOJThvDEL",
        "outputId": "b1c5e913-b45b-4a3f-c9a8-d3245253da15"
      },
      "execution_count": null,
      "outputs": [
        {
          "output_type": "execute_result",
          "data": {
            "text/plain": [
              "False"
            ]
          },
          "metadata": {},
          "execution_count": 14
        }
      ]
    },
    {
      "cell_type": "code",
      "source": [
        "np.dot(yo,wow)"
      ],
      "metadata": {
        "colab": {
          "base_uri": "https://localhost:8080/"
        },
        "id": "7wy-lt1MZLYI",
        "outputId": "6420115f-0c99-46bd-e931-fd83e3112877"
      },
      "execution_count": null,
      "outputs": [
        {
          "output_type": "execute_result",
          "data": {
            "text/plain": [
              "array([[20, 33, 31],\n",
              "       [14, 15,  7],\n",
              "       [14, 30, 28]])"
            ]
          },
          "metadata": {},
          "execution_count": 15
        }
      ]
    },
    {
      "cell_type": "code",
      "source": [
        "yo.dot(wow)"
      ],
      "metadata": {
        "colab": {
          "base_uri": "https://localhost:8080/"
        },
        "id": "CdjiO4KSZO6E",
        "outputId": "466868d6-7a6a-46a5-e3e9-3549ff2d98d5"
      },
      "execution_count": null,
      "outputs": [
        {
          "output_type": "execute_result",
          "data": {
            "text/plain": [
              "array([[20, 33, 31],\n",
              "       [14, 15,  7],\n",
              "       [14, 30, 28]])"
            ]
          },
          "metadata": {},
          "execution_count": 17
        }
      ]
    },
    {
      "cell_type": "code",
      "source": [
        "yo @ wow"
      ],
      "metadata": {
        "colab": {
          "base_uri": "https://localhost:8080/"
        },
        "id": "KHy5TdgxZPzH",
        "outputId": "d3304b3f-c991-4c42-cac9-4ea05ecdac00"
      },
      "execution_count": null,
      "outputs": [
        {
          "output_type": "execute_result",
          "data": {
            "text/plain": [
              "array([[20, 33, 31],\n",
              "       [14, 15,  7],\n",
              "       [14, 30, 28]])"
            ]
          },
          "metadata": {},
          "execution_count": 18
        }
      ]
    },
    {
      "cell_type": "code",
      "source": [
        "np.matmul(yo,wow)"
      ],
      "metadata": {
        "colab": {
          "base_uri": "https://localhost:8080/"
        },
        "id": "875MvrFzZQhM",
        "outputId": "f05ead22-43b0-4380-b617-e949fb0931dd"
      },
      "execution_count": null,
      "outputs": [
        {
          "output_type": "execute_result",
          "data": {
            "text/plain": [
              "array([[20, 33, 31],\n",
              "       [14, 15,  7],\n",
              "       [14, 30, 28]])"
            ]
          },
          "metadata": {},
          "execution_count": 19
        }
      ]
    },
    {
      "cell_type": "markdown",
      "source": [
        "## Rule 1: The inner dimensions of the two matrices in question must be the same.\n",
        "\n",
        "So given a matrix $A$ with a shape of $(a,b)$ where $a$ and $b$ are any integers. If we want to do a dot product between $A$ and another matrix $B$, then matrix $B$ should have a shape of $(b,c)$ where $b$ and $c$ are any integers. So for given the following matrices:\n",
        "\n",
        "\n",
        "$$A = \\begin{bmatrix}2 &4\\\\ 5 & {-2} \\\\0 & 1 \\end{bmatrix}, B = \\begin{bmatrix}1 & 1\\\\3 & 3 \\\\{-1} & {-2} \\end{bmatrix}, C = \\begin{bmatrix}0 & 1 & 1\\\\ 1 & 1& 2\\end{bmatrix}$$\n",
        "\n",
        "\n",
        "So in this case $A$ has a shape of $(3,2)$, $B$ has a shape of $(3,2)$ and $C$ has a shape of $(2,3)$. So the only matrix pairs that is eligible to perform dot product is matrices $A \\cdot C$, or $B \\cdot C$.  "
      ],
      "metadata": {
        "id": "gcvt6fmo0Gyn"
      }
    },
    {
      "cell_type": "code",
      "source": [
        "M1 = np.array([\n",
        "    [4, 2],\n",
        "    [3, -4],\n",
        "    [1, 3],\n",
        "    [3,1]\n",
        "])\n",
        "M2 = np.array([\n",
        "    [3,2],\n",
        "    [4,4],\n",
        "    [-5,-2],\n",
        "    [2,3]\n",
        "])\n",
        "M3 = np.array([\n",
        "    [0,1,1],\n",
        "    [1,1,2]\n",
        "])\n",
        "print(M1.shape)\n",
        "print(M2.shape)\n",
        "print(M3.shape)"
      ],
      "metadata": {
        "colab": {
          "base_uri": "https://localhost:8080/"
        },
        "id": "t3YQzwu_b8v5",
        "outputId": "01383ab4-27d4-4c1d-8c4e-435b645602de"
      },
      "execution_count": null,
      "outputs": [
        {
          "output_type": "stream",
          "name": "stdout",
          "text": [
            "(4, 2)\n",
            "(4, 2)\n",
            "(2, 3)\n"
          ]
        }
      ]
    },
    {
      "cell_type": "code",
      "source": [
        "M1 @ M3"
      ],
      "metadata": {
        "colab": {
          "base_uri": "https://localhost:8080/"
        },
        "id": "ih_SgHwPb_Ct",
        "outputId": "0df229dc-a85a-40dc-fdd7-39ca2f21041f"
      },
      "execution_count": null,
      "outputs": [
        {
          "output_type": "execute_result",
          "data": {
            "text/plain": [
              "array([[ 2,  6,  8],\n",
              "       [-4, -1, -5],\n",
              "       [ 3,  4,  7],\n",
              "       [ 1,  4,  5]])"
            ]
          },
          "metadata": {},
          "execution_count": 41
        }
      ]
    },
    {
      "cell_type": "code",
      "source": [
        "M2 @ M3"
      ],
      "metadata": {
        "colab": {
          "base_uri": "https://localhost:8080/"
        },
        "id": "zlOKyxaib_t3",
        "outputId": "e74e16ca-b141-4be6-e55d-fae7d0710af3"
      },
      "execution_count": null,
      "outputs": [
        {
          "output_type": "execute_result",
          "data": {
            "text/plain": [
              "array([[ 2,  5,  7],\n",
              "       [ 4,  8, 12],\n",
              "       [-2, -7, -9],\n",
              "       [ 3,  5,  8]])"
            ]
          },
          "metadata": {},
          "execution_count": 43
        }
      ]
    },
    {
      "cell_type": "code",
      "source": [
        ""
      ],
      "metadata": {
        "id": "zWLGkU-8cBA1"
      },
      "execution_count": null,
      "outputs": []
    },
    {
      "cell_type": "markdown",
      "source": [
        "If you would notice the shape of the dot product changed and its shape is not the same as any of the matrices we used. The shape of a dot product is actually derived from the shapes of the matrices used. So recall matrix  with a shape of  and matrix  with a shape of ,  should have a shape ."
      ],
      "metadata": {
        "id": "FDKRVglVcC_O"
      }
    },
    {
      "cell_type": "code",
      "source": [
        "M1 @ M2.T"
      ],
      "metadata": {
        "colab": {
          "base_uri": "https://localhost:8080/"
        },
        "id": "nhiJLUCxcDcb",
        "outputId": "7adbf2a4-93ba-4b8b-99e3-14820f693717"
      },
      "execution_count": null,
      "outputs": [
        {
          "output_type": "execute_result",
          "data": {
            "text/plain": [
              "array([[ 16,  24, -24,  14],\n",
              "       [  1,  -4,  -7,  -6],\n",
              "       [  9,  16, -11,  11],\n",
              "       [ 11,  16, -17,   9]])"
            ]
          },
          "metadata": {},
          "execution_count": 45
        }
      ]
    },
    {
      "cell_type": "code",
      "source": [
        "AB = np.array([\n",
        "    [1,3,4,2,4],\n",
        "    [3,3,4,4,5]\n",
        "])\n",
        "CD = np.array([\n",
        "    [1,1,2,3,4],\n",
        "    [1,1,2,2,3]\n",
        "])\n",
        "print(AB.shape)\n",
        "print(CD.shape)"
      ],
      "metadata": {
        "colab": {
          "base_uri": "https://localhost:8080/"
        },
        "id": "tXNKVoxX0clT",
        "outputId": "45c8ca91-88de-4610-845e-9ffd771c9b0e"
      },
      "execution_count": null,
      "outputs": [
        {
          "output_type": "stream",
          "name": "stdout",
          "text": [
            "(2, 5)\n",
            "(2, 5)\n"
          ]
        }
      ]
    },
    {
      "cell_type": "code",
      "source": [
        "CD.T @ AB"
      ],
      "metadata": {
        "colab": {
          "base_uri": "https://localhost:8080/"
        },
        "id": "ZtbJWSqn08a0",
        "outputId": "486b3e9f-d962-426d-e6b9-2474f288470f"
      },
      "execution_count": null,
      "outputs": [
        {
          "output_type": "execute_result",
          "data": {
            "text/plain": [
              "array([[ 4,  6,  8,  6,  9],\n",
              "       [ 4,  6,  8,  6,  9],\n",
              "       [ 8, 12, 16, 12, 18],\n",
              "       [ 9, 15, 20, 14, 22],\n",
              "       [13, 21, 28, 20, 31]])"
            ]
          },
          "metadata": {},
          "execution_count": 21
        }
      ]
    },
    {
      "cell_type": "code",
      "source": [
        "AB @ CD.T"
      ],
      "metadata": {
        "colab": {
          "base_uri": "https://localhost:8080/"
        },
        "id": "lzYzlsBM0_29",
        "outputId": "067e24e7-7f96-4c52-f970-12c349e232f8"
      },
      "execution_count": null,
      "outputs": [
        {
          "output_type": "execute_result",
          "data": {
            "text/plain": [
              "array([[34, 28],\n",
              "       [46, 37]])"
            ]
          },
          "metadata": {},
          "execution_count": 23
        }
      ]
    },
    {
      "cell_type": "markdown",
      "source": [
        "## Rule 2: Dot Product has special properties\n",
        "\n",
        "1. $A \\cdot B \\neq B \\cdot A$\n",
        "2. $A \\cdot (B \\cdot C) = (A \\cdot B) \\cdot C$\n",
        "3. $A\\cdot(B+C) = A\\cdot B + A\\cdot C$\n",
        "4. $(B+C)\\cdot A = B\\cdot A + C\\cdot A$\n",
        "5. $A\\cdot I = A$\n",
        "6. $A\\cdot \\emptyset = \\emptyset$"
      ],
      "metadata": {
        "id": "auXjqHvqzpQY"
      }
    },
    {
      "cell_type": "code",
      "source": [
        "#Declaration of matrices\n",
        "A = np.array([\n",
        "    [5,2,4],\n",
        "    [1,1,2],\n",
        "    [1,2,3]\n",
        "])\n",
        "B = np.array([\n",
        "    [2,2,2],\n",
        "    [3,4,3],\n",
        "    [5,5,5]\n",
        "])\n",
        "C = np.array([\n",
        "    [2,0,0],\n",
        "    [9,2,3],\n",
        "    [8,2,5]\n",
        "])"
      ],
      "metadata": {
        "id": "8PIq2-09z1Q2"
      },
      "execution_count": null,
      "outputs": []
    },
    {
      "cell_type": "code",
      "source": [
        "# First property\n",
        "np.array_equal(A@B, C@A)"
      ],
      "metadata": {
        "colab": {
          "base_uri": "https://localhost:8080/"
        },
        "id": "otQlZxf891Xn",
        "outputId": "0ba964ef-06a5-4a2b-a44e-4b57b128c67f"
      },
      "execution_count": null,
      "outputs": [
        {
          "output_type": "execute_result",
          "data": {
            "text/plain": [
              "False"
            ]
          },
          "metadata": {},
          "execution_count": 14
        }
      ]
    },
    {
      "cell_type": "code",
      "source": [
        "# Second property\n",
        "print(A @ (B @ C))\n",
        "print((A @ B) @ C)\n",
        "np.array_equiv(A @ (B @ C), (A @ B) @ C)"
      ],
      "metadata": {
        "colab": {
          "base_uri": "https://localhost:8080/"
        },
        "id": "aIzjpwPfBLZI",
        "outputId": "f58f3df2-d53a-418c-e699-220d66fea691"
      },
      "execution_count": null,
      "outputs": [
        {
          "output_type": "stream",
          "name": "stdout",
          "text": [
            "[[702 148 294]\n",
            " [294  62 123]\n",
            " [455  96 190]]\n",
            "[[702 148 294]\n",
            " [294  62 123]\n",
            " [455  96 190]]\n"
          ]
        },
        {
          "output_type": "execute_result",
          "data": {
            "text/plain": [
              "True"
            ]
          },
          "metadata": {},
          "execution_count": 16
        }
      ]
    },
    {
      "cell_type": "code",
      "source": [
        "# Third property \n",
        "print(A @ (B + C))\n",
        "print((A @ B) + (A @ C))\n",
        "np.array_equiv(A @ (B + C), (A @ B) + (A @ C))"
      ],
      "metadata": {
        "colab": {
          "base_uri": "https://localhost:8080/"
        },
        "id": "VgtpIdUGDHZU",
        "outputId": "b235e03e-2b55-4ebf-f46a-a5c6b4dafd6b"
      },
      "execution_count": null,
      "outputs": [
        {
          "output_type": "stream",
          "name": "stdout",
          "text": [
            "[[96 50 62]\n",
            " [42 22 28]\n",
            " [67 35 44]]\n",
            "[[96 50 62]\n",
            " [42 22 28]\n",
            " [67 35 44]]\n"
          ]
        },
        {
          "output_type": "execute_result",
          "data": {
            "text/plain": [
              "True"
            ]
          },
          "metadata": {},
          "execution_count": 21
        }
      ]
    },
    {
      "cell_type": "code",
      "source": [
        "# Fourth property\n",
        "print((B + C) @ A)\n",
        "print((B @ A) + (C @ A))\n",
        "np.array_equiv((B + C) @ A, (B @ A) + (C @ A))"
      ],
      "metadata": {
        "colab": {
          "base_uri": "https://localhost:8080/"
        },
        "id": "HKJkYJvMDRCi",
        "outputId": "b0fa9a9d-ee03-4aeb-fbea-2e3b4f76e0bd"
      },
      "execution_count": null,
      "outputs": [
        {
          "output_type": "stream",
          "name": "stdout",
          "text": [
            "[[24 14 26]\n",
            " [72 42 78]\n",
            " [82 53 96]]\n",
            "[[24 14 26]\n",
            " [72 42 78]\n",
            " [82 53 96]]\n"
          ]
        },
        {
          "output_type": "execute_result",
          "data": {
            "text/plain": [
              "True"
            ]
          },
          "metadata": {},
          "execution_count": 26
        }
      ]
    },
    {
      "cell_type": "code",
      "source": [
        "# Fifth property\n",
        "print(A@np.eye(3))\n",
        "np.array_equiv(A, A@np.eye(3))\n",
        " "
      ],
      "metadata": {
        "colab": {
          "base_uri": "https://localhost:8080/"
        },
        "id": "XxIQYIqiDoTY",
        "outputId": "e7752054-008c-4399-cf3d-a2847ac05b30"
      },
      "execution_count": null,
      "outputs": [
        {
          "output_type": "stream",
          "name": "stdout",
          "text": [
            "[[5. 2. 4.]\n",
            " [1. 1. 2.]\n",
            " [1. 2. 3.]]\n"
          ]
        },
        {
          "output_type": "execute_result",
          "data": {
            "text/plain": [
              "True"
            ]
          },
          "metadata": {},
          "execution_count": 41
        }
      ]
    },
    {
      "cell_type": "code",
      "source": [
        "# sixth property\n",
        "print(A @ np.zeros((3,3)))\n",
        "print(np.zeros((3,3)))\n",
        "np.array_equiv(A @ np.zeros((3,3)),np.zeros((3,3)))"
      ],
      "metadata": {
        "colab": {
          "base_uri": "https://localhost:8080/"
        },
        "id": "UcNmcCePHeOM",
        "outputId": "62beaeac-6b4a-4ad4-a0e1-29c520d95a80"
      },
      "execution_count": null,
      "outputs": [
        {
          "output_type": "stream",
          "name": "stdout",
          "text": [
            "[[0. 0. 0.]\n",
            " [0. 0. 0.]\n",
            " [0. 0. 0.]]\n",
            "[[0. 0. 0.]\n",
            " [0. 0. 0.]\n",
            " [0. 0. 0.]]\n"
          ]
        },
        {
          "output_type": "execute_result",
          "data": {
            "text/plain": [
              "True"
            ]
          },
          "metadata": {},
          "execution_count": 40
        }
      ]
    },
    {
      "cell_type": "markdown",
      "source": [
        "#Determinant\n",
        "\n",
        "A determinant is a scalar value derived from a square matrix. The determinant is a fundamental and important value used in matrix algebra. Although it will not be evident in this laboratory on how it can be used practically, but it will be reatly used in future lessons.\n",
        "\n",
        "The determinant of some matrix $A$ is denoted as $det(A)$ or $|A|$. So let's say $A$ is represented as:\n",
        "$$A = \\begin{bmatrix}a_{(0,0)}&a_{(0,1)}\\\\a_{(1,0)}&a_{(1,1)}\\end{bmatrix}$$\n",
        "We can compute for the determinant as:\n",
        "$$|A| = a_{(0,0)}*a_{(1,1)} - a_{(1,0)}*a_{(0,1)}$$\n",
        "So if we have $A$ as:\n",
        "$$A = \\begin{bmatrix}1&4\\\\0&3\\end{bmatrix}, |A| = 3$$\n",
        "\n",
        "But you might wonder how about square matrices beyond the shape $(2,2)$? We can approach this problem by using several methods such as co-factor expansion and the minors method. This can be taught in the lecture of the laboratory but we can achieve the strenuous computation of high-dimensional matrices programmatically using Python. We can achieve this by using `np.linalg.det()`."
      ],
      "metadata": {
        "id": "6voJtggJfJTx"
      }
    },
    {
      "cell_type": "code",
      "source": [
        "A = np.array([\n",
        "    [2,4],\n",
        "    [1,1]\n",
        "])\n",
        "\n",
        "B = np.array([\n",
        "    [3,5,2],\n",
        "    [2,4,8],\n",
        "    [2,3,1]\n",
        "])\n",
        "print(np.linalg.det(A))\n",
        "print(np.linalg.det(B))\n"
      ],
      "metadata": {
        "colab": {
          "base_uri": "https://localhost:8080/"
        },
        "id": "XgPFGBkvfGxZ",
        "outputId": "fa08dff4-ef62-4cdc-fac7-0769b1b33415"
      },
      "execution_count": null,
      "outputs": [
        {
          "output_type": "stream",
          "name": "stdout",
          "text": [
            "-2.0\n",
            "5.999999999999995\n"
          ]
        }
      ]
    },
    {
      "cell_type": "code",
      "source": [
        "## Now other mathematics classes would require you to solve this by hand, \n",
        "## and that is great for practicing your memorization and coordination skills \n",
        "## but in this class we aim for simplicity and speed so we'll use programming\n",
        "## but it's completely fine if you want to try to solve this one by hand.\n",
        "B = np.array([\n",
        "    [1,3,5,6],\n",
        "    [0,3,1,3],\n",
        "    [3,1,8,2],\n",
        "    [5,2,6,8]\n",
        "])\n",
        "np.linalg.det(B)"
      ],
      "metadata": {
        "colab": {
          "base_uri": "https://localhost:8080/"
        },
        "id": "_BRir7JmfNJQ",
        "outputId": "99827513-1855-4805-ea86-32acd34fc25a"
      },
      "execution_count": null,
      "outputs": [
        {
          "output_type": "execute_result",
          "data": {
            "text/plain": [
              "-235.0000000000002"
            ]
          },
          "metadata": {},
          "execution_count": 48
        }
      ]
    },
    {
      "cell_type": "markdown",
      "source": [
        "#Inverse\n",
        "The inverse of a matrix is another fundamental operation in matrix algebra. Determining the inverse of a matrix let us determine if its solvability and its characteristic as a system of linear equation — we'll expand on this in the nect module. Another use of the inverse matrix is solving the problem of divisibility between matrices. Although element-wise division exists but dividing the entire concept of matrices does not exists. Inverse matrices provides a related operation that could have the same concept of \"dividing\" matrices.\n",
        "\n",
        "Now to determine the inverse of a matrix we need to perform several steps. So let's say we have a matrix $M$:\n",
        "$$M = \\begin{bmatrix}1&7\\\\-3&5\\end{bmatrix}$$\n",
        "First, we need to get the determinant of $M$.\n",
        "$$|M| = (1)(5)-(-3)(7) = 26$$\n",
        "Next, we need to reform the matrix into the inverse form:\n",
        "$$M^{-1} = \\frac{1}{|M|} \\begin{bmatrix} m_{(1,1)} & -m_{(0,1)} \\\\ -m_{(1,0)} & m_{(0,0)}\\end{bmatrix}$$\n",
        "So that will be:\n",
        "$$M^{-1} = \\frac{1}{26} \\begin{bmatrix} 5 & -7 \\\\ 3 & 1\\end{bmatrix} = \\begin{bmatrix} \\frac{5}{26} & \\frac{-7}{26} \\\\ \\frac{3}{26} & \\frac{1}{26}\\end{bmatrix}$$\n",
        "For higher-dimension matrices you might need to use co-factors, minors, adjugates, and other reduction techinques. To solve this programmatially we can use `np.linalg.inv()`."
      ],
      "metadata": {
        "id": "6wDwIo8c4jkc"
      }
    },
    {
      "cell_type": "code",
      "source": [
        "dog = np.array([\n",
        "    [9,8,1],\n",
        "    [-2,6,2],\n",
        "    [5,5,8]\n",
        "])\n",
        "\n",
        "np.array(dog @ np.linalg.inv(dog), dtype=int)"
      ],
      "metadata": {
        "id": "vn6cvM4ifRG1",
        "colab": {
          "base_uri": "https://localhost:8080/"
        },
        "outputId": "6626645c-43b8-4055-abba-01f462f85ad7"
      },
      "execution_count": null,
      "outputs": [
        {
          "output_type": "execute_result",
          "data": {
            "text/plain": [
              "array([[0, 0, 0],\n",
              "       [0, 1, 0],\n",
              "       [0, 0, 1]])"
            ]
          },
          "metadata": {},
          "execution_count": 27
        }
      ]
    },
    {
      "cell_type": "code",
      "source": [
        "cat = np.array([\n",
        "    [2,5],\n",
        "    [-6,8]\n",
        "])\n",
        "mouse=np.linalg.inv(cat)\n",
        "mouse"
      ],
      "metadata": {
        "colab": {
          "base_uri": "https://localhost:8080/"
        },
        "id": "x8eQTh9E5P_u",
        "outputId": "2328c14c-4070-4901-e2eb-72f753184a67"
      },
      "execution_count": null,
      "outputs": [
        {
          "output_type": "execute_result",
          "data": {
            "text/plain": [
              "array([[ 0.17391304, -0.10869565],\n",
              "       [ 0.13043478,  0.04347826]])"
            ]
          },
          "metadata": {},
          "execution_count": 31
        }
      ]
    },
    {
      "cell_type": "code",
      "source": [
        "cat @ mouse"
      ],
      "metadata": {
        "colab": {
          "base_uri": "https://localhost:8080/"
        },
        "id": "W7YxK8ae6Tz2",
        "outputId": "f8b4e5eb-74b7-4120-fd42-291d797e6b42"
      },
      "execution_count": null,
      "outputs": [
        {
          "output_type": "execute_result",
          "data": {
            "text/plain": [
              "array([[1., 0.],\n",
              "       [0., 1.]])"
            ]
          },
          "metadata": {},
          "execution_count": 32
        }
      ]
    },
    {
      "cell_type": "code",
      "source": [
        "## And now let's test your skills in solving a matrix with high dimensions:\n",
        "Big = np.array([\n",
        "    [9,4,7,2,3,4,4],\n",
        "    [12,4,5,1,0,0,8],\n",
        "    [2,4,11,2,5,11,5],\n",
        "    [1,2,3,4,5,6,7],\n",
        "    [2,1,18,4,5,2,9],\n",
        "    [13,2,5,10,4,2,1],\n",
        "    [7,6,5,4,3,2,1]\n",
        "])\n",
        "Big_inv = np.linalg.inv(Big)\n",
        "np.array(Big @ Big_inv,dtype=int)"
      ],
      "metadata": {
        "id": "qgTLDJLdhJ_L",
        "colab": {
          "base_uri": "https://localhost:8080/"
        },
        "outputId": "2f7a9564-934d-4bb8-8c35-52fc814e84fb"
      },
      "execution_count": null,
      "outputs": [
        {
          "output_type": "execute_result",
          "data": {
            "text/plain": [
              "array([[0, 0, 0, 0, 0, 0, 0],\n",
              "       [0, 1, 0, 0, 0, 0, 0],\n",
              "       [0, 0, 1, 0, 0, 0, 0],\n",
              "       [0, 0, 0, 0, 0, 0, 0],\n",
              "       [0, 0, 0, 0, 0, 0, 0],\n",
              "       [0, 0, 0, 0, 0, 1, 0],\n",
              "       [0, 0, 0, 0, 0, 0, 1]])"
            ]
          },
          "metadata": {},
          "execution_count": 38
        }
      ]
    },
    {
      "cell_type": "code",
      "source": [
        "squad = np.array([\n",
        "    [1.0, 1.0, 0.5],\n",
        "    [0.7, 0.7, 0.9],\n",
        "    [0.3, 0.3, 1.0]\n",
        "])\n",
        "weights = np.array([\n",
        "    [0.2, 0.2, 0.6]\n",
        "])\n",
        "p_grade = squad @ weights.T\n",
        "p_grade"
      ],
      "metadata": {
        "id": "CX5lyZE5hNWk"
      },
      "execution_count": null,
      "outputs": []
    },
    {
      "cell_type": "code",
      "source": [
        "XX= np.array([\n",
        "              [4,3,4],\n",
        "              [2,3,1],\n",
        "              [3,1,4]\n",
        "])\n",
        "XXX = np.linalg.inv(XX)\n",
        "XXX"
      ],
      "metadata": {
        "colab": {
          "base_uri": "https://localhost:8080/"
        },
        "id": "ds5T_nRvhPfC",
        "outputId": "044ddc67-bf3a-4f97-cbba-5c03139e81aa"
      },
      "execution_count": null,
      "outputs": [
        {
          "output_type": "execute_result",
          "data": {
            "text/plain": [
              "array([[11., -8., -9.],\n",
              "       [-5.,  4.,  4.],\n",
              "       [-7.,  5.,  6.]])"
            ]
          },
          "metadata": {},
          "execution_count": 59
        }
      ]
    },
    {
      "cell_type": "code",
      "source": [
        "XX @ XXX"
      ],
      "metadata": {
        "colab": {
          "base_uri": "https://localhost:8080/"
        },
        "id": "CQgDLV3Dhi_J",
        "outputId": "9f4622ee-3ce9-4d80-c038-8d81c1e6e703"
      },
      "execution_count": null,
      "outputs": [
        {
          "output_type": "execute_result",
          "data": {
            "text/plain": [
              "array([[ 1.00000000e+00,  0.00000000e+00,  0.00000000e+00],\n",
              "       [ 8.88178420e-16,  1.00000000e+00,  0.00000000e+00],\n",
              "       [ 3.55271368e-15, -3.55271368e-15,  1.00000000e+00]])"
            ]
          },
          "metadata": {},
          "execution_count": 60
        }
      ]
    },
    {
      "cell_type": "markdown",
      "source": [
        ""
      ],
      "metadata": {
        "id": "CrwoS8-59weY"
      }
    },
    {
      "cell_type": "markdown",
      "source": [
        "# Task 1\n",
        "Prove and implement the remaining 6 matrix multiplication properties. You may create your own matrices in which their shapes should not be lower than (3,3). In your methodology, create individual flowcharts for each property and discuss the property you would then present your proofs or validity of your implementation in the results section by comparing your result to present functions from NumPy."
      ],
      "metadata": {
        "id": "P9qqyjjuLfbl"
      }
    },
    {
      "cell_type": "code",
      "source": [
        "#Declaration of matrices\n",
        "ADU = np.array([\n",
        "    [6,12,8,4],\n",
        "    [2,1,11,2],\n",
        "    [3,3,3,4],\n",
        "    [0,0,8,3]\n",
        "])\n",
        "UST = np.array([\n",
        "    [10,11,4,3],\n",
        "    [3,2,9,9],\n",
        "    [5,6,7,8],\n",
        "    [12,8,2,1]\n",
        "])\n",
        "FEU = np.array([\n",
        "    [2,0,9,0],\n",
        "    [2,11,16,12],\n",
        "    [8,9,3,4],\n",
        "    [2,4,9,2]\n",
        "])"
      ],
      "metadata": {
        "id": "y4FcKlHfLnJ4"
      },
      "execution_count": 22,
      "outputs": []
    },
    {
      "cell_type": "markdown",
      "source": [
        "## First property"
      ],
      "metadata": {
        "id": "84zO4S9JP3Ho"
      }
    },
    {
      "cell_type": "code",
      "source": [
        "ADU @ UST"
      ],
      "metadata": {
        "colab": {
          "base_uri": "https://localhost:8080/"
        },
        "id": "dwduvmQ-P9Fk",
        "outputId": "3ee85848-d380-4159-caad-4cb56c9e1230"
      },
      "execution_count": 34,
      "outputs": [
        {
          "output_type": "execute_result",
          "data": {
            "text/plain": [
              "array([[184, 170, 196, 194],\n",
              "       [102, 106,  98, 105],\n",
              "       [102,  89,  68,  64],\n",
              "       [ 76,  72,  62,  67]])"
            ]
          },
          "metadata": {},
          "execution_count": 34
        }
      ]
    },
    {
      "cell_type": "code",
      "source": [
        "FEU @ ADU"
      ],
      "metadata": {
        "colab": {
          "base_uri": "https://localhost:8080/"
        },
        "id": "jIJNnf3UP_n6",
        "outputId": "71719801-6510-4341-cf3d-4b2f4da7008e"
      },
      "execution_count": 35,
      "outputs": [
        {
          "output_type": "execute_result",
          "data": {
            "text/plain": [
              "array([[ 39,  51,  43,  44],\n",
              "       [ 82,  83, 281, 130],\n",
              "       [ 75, 114, 204,  74],\n",
              "       [ 47,  55, 103,  58]])"
            ]
          },
          "metadata": {},
          "execution_count": 35
        }
      ]
    },
    {
      "cell_type": "code",
      "source": [
        "np.array_equal(ADU@UST, FEU@ADU)"
      ],
      "metadata": {
        "colab": {
          "base_uri": "https://localhost:8080/"
        },
        "id": "au8ALtTpP6FU",
        "outputId": "571fde67-e29a-49d9-b0dd-dede6beea32c"
      },
      "execution_count": 36,
      "outputs": [
        {
          "output_type": "execute_result",
          "data": {
            "text/plain": [
              "False"
            ]
          },
          "metadata": {},
          "execution_count": 36
        }
      ]
    },
    {
      "cell_type": "markdown",
      "source": [
        "## Second property"
      ],
      "metadata": {
        "id": "bGYSoI1gQEJ1"
      }
    },
    {
      "cell_type": "code",
      "source": [
        "ADU @ (UST @ FEU)"
      ],
      "metadata": {
        "colab": {
          "base_uri": "https://localhost:8080/"
        },
        "id": "VdWw9weQQF2g",
        "outputId": "345ac0c3-6e5b-4bd8-827b-69f54efeee2f"
      },
      "execution_count": 37,
      "outputs": [
        {
          "output_type": "execute_result",
          "data": {
            "text/plain": [
              "array([[2664, 4410, 6710, 3212],\n",
              "       [1410, 2468, 3853, 1874],\n",
              "       [1054, 1847, 3122, 1468],\n",
              "       [ 926, 1618, 2625, 1246]])"
            ]
          },
          "metadata": {},
          "execution_count": 37
        }
      ]
    },
    {
      "cell_type": "code",
      "source": [
        "(ADU @ UST) @ FEU"
      ],
      "metadata": {
        "colab": {
          "base_uri": "https://localhost:8080/"
        },
        "id": "Z-RYYXVsQKjV",
        "outputId": "774c8f6f-aa25-4dfc-dcee-3c9b6f29a896"
      },
      "execution_count": 39,
      "outputs": [
        {
          "output_type": "execute_result",
          "data": {
            "text/plain": [
              "array([[2664, 4410, 6710, 3212],\n",
              "       [1410, 2468, 3853, 1874],\n",
              "       [1054, 1847, 3122, 1468],\n",
              "       [ 926, 1618, 2625, 1246]])"
            ]
          },
          "metadata": {},
          "execution_count": 39
        }
      ]
    },
    {
      "cell_type": "code",
      "source": [
        "np.array_equiv(ADU @ (UST @ FEU), (ADU @ UST) @ FEU)"
      ],
      "metadata": {
        "colab": {
          "base_uri": "https://localhost:8080/"
        },
        "id": "OC_7BAxYQNqi",
        "outputId": "bc75671c-91af-40c8-c5f6-1b02187acd04"
      },
      "execution_count": 40,
      "outputs": [
        {
          "output_type": "execute_result",
          "data": {
            "text/plain": [
              "True"
            ]
          },
          "metadata": {},
          "execution_count": 40
        }
      ]
    },
    {
      "cell_type": "markdown",
      "source": [
        "## Third Property"
      ],
      "metadata": {
        "id": "_8uKBv4gQSeO"
      }
    },
    {
      "cell_type": "code",
      "source": [
        "ADU @ (UST+ FEU)"
      ],
      "metadata": {
        "colab": {
          "base_uri": "https://localhost:8080/"
        },
        "id": "k2RPeQO6QTxq",
        "outputId": "50f80c67-405d-4f38-e09f-8e1bb497b581"
      },
      "execution_count": 41,
      "outputs": [
        {
          "output_type": "execute_result",
          "data": {
            "text/plain": [
              "array([[292, 390, 502, 378],\n",
              "       [200, 224, 183, 165],\n",
              "       [146, 165, 188, 120],\n",
              "       [146, 156, 113, 105]])"
            ]
          },
          "metadata": {},
          "execution_count": 41
        }
      ]
    },
    {
      "cell_type": "code",
      "source": [
        "(ADU @ UST)+ (ADU @ FEU)"
      ],
      "metadata": {
        "colab": {
          "base_uri": "https://localhost:8080/"
        },
        "id": "Z7tJ1Ui7QW60",
        "outputId": "dfb73bd5-c4e4-40ce-c91c-133a9165d086"
      },
      "execution_count": 42,
      "outputs": [
        {
          "output_type": "execute_result",
          "data": {
            "text/plain": [
              "array([[292, 390, 502, 378],\n",
              "       [200, 224, 183, 165],\n",
              "       [146, 165, 188, 120],\n",
              "       [146, 156, 113, 105]])"
            ]
          },
          "metadata": {},
          "execution_count": 42
        }
      ]
    },
    {
      "cell_type": "code",
      "source": [
        "np.array_equiv(ADU @ (UST+FEU) , ADU @ UST + ADU @ FEU)"
      ],
      "metadata": {
        "colab": {
          "base_uri": "https://localhost:8080/"
        },
        "id": "anS531ijQYlG",
        "outputId": "6969a940-668c-4934-ea59-216465854595"
      },
      "execution_count": 43,
      "outputs": [
        {
          "output_type": "execute_result",
          "data": {
            "text/plain": [
              "True"
            ]
          },
          "metadata": {},
          "execution_count": 43
        }
      ]
    },
    {
      "cell_type": "markdown",
      "source": [
        "## Fourth Property"
      ],
      "metadata": {
        "id": "-xQE4Gt7Qahw"
      }
    },
    {
      "cell_type": "code",
      "source": [
        "(UST + FEU) @ ADU"
      ],
      "metadata": {
        "colab": {
          "base_uri": "https://localhost:8080/"
        },
        "id": "GMVU23VzQcAy",
        "outputId": "963963a2-1510-41dd-8a15-9bac2733b2a3"
      },
      "execution_count": 44,
      "outputs": [
        {
          "output_type": "execute_result",
          "data": {
            "text/plain": [
              "array([[133, 194, 280, 131],\n",
              "       [131, 148, 426, 209],\n",
              "       [138, 201, 395, 158],\n",
              "       [141, 213, 301, 133]])"
            ]
          },
          "metadata": {},
          "execution_count": 44
        }
      ]
    },
    {
      "cell_type": "code",
      "source": [
        "(UST @ ADU) + (FEU @ ADU)"
      ],
      "metadata": {
        "colab": {
          "base_uri": "https://localhost:8080/"
        },
        "id": "EIq2chzIQfkF",
        "outputId": "1e371aed-7eac-4a86-8a04-5b4bc4c9e266"
      },
      "execution_count": 60,
      "outputs": [
        {
          "output_type": "execute_result",
          "data": {
            "text/plain": [
              "array([[133, 194, 280, 131],\n",
              "       [131, 148, 426, 209],\n",
              "       [138, 201, 395, 158],\n",
              "       [141, 213, 301, 133]])"
            ]
          },
          "metadata": {},
          "execution_count": 60
        }
      ]
    },
    {
      "cell_type": "code",
      "source": [
        "np.array_equiv((UST + FEU) @ ADU, (UST @ ADU) + (FEU @ ADU))"
      ],
      "metadata": {
        "colab": {
          "base_uri": "https://localhost:8080/"
        },
        "id": "0BPA8w7wQh80",
        "outputId": "f8d11054-5512-4d41-ab57-8853f1c8433c"
      },
      "execution_count": 46,
      "outputs": [
        {
          "output_type": "execute_result",
          "data": {
            "text/plain": [
              "True"
            ]
          },
          "metadata": {},
          "execution_count": 46
        }
      ]
    },
    {
      "cell_type": "markdown",
      "source": [
        "## Fifth property"
      ],
      "metadata": {
        "id": "HIWlb7CMQkK8"
      }
    },
    {
      "cell_type": "code",
      "source": [
        "ADU"
      ],
      "metadata": {
        "colab": {
          "base_uri": "https://localhost:8080/"
        },
        "id": "9WvknIJqQj5v",
        "outputId": "b4060bcf-76b0-4418-d070-0f1bce0b65f6"
      },
      "execution_count": 48,
      "outputs": [
        {
          "output_type": "execute_result",
          "data": {
            "text/plain": [
              "array([[ 6, 12,  8,  4],\n",
              "       [ 2,  1, 11,  2],\n",
              "       [ 3,  3,  3,  4],\n",
              "       [ 0,  0,  8,  3]])"
            ]
          },
          "metadata": {},
          "execution_count": 48
        }
      ]
    },
    {
      "cell_type": "code",
      "source": [
        "ADU @ np.eye(4)"
      ],
      "metadata": {
        "colab": {
          "base_uri": "https://localhost:8080/"
        },
        "id": "Yjn68XgPQpHa",
        "outputId": "9ba8b9f3-61db-4929-baf7-e9c90fbe05c2"
      },
      "execution_count": 52,
      "outputs": [
        {
          "output_type": "execute_result",
          "data": {
            "text/plain": [
              "array([[ 6., 12.,  8.,  4.],\n",
              "       [ 2.,  1., 11.,  2.],\n",
              "       [ 3.,  3.,  3.,  4.],\n",
              "       [ 0.,  0.,  8.,  3.]])"
            ]
          },
          "metadata": {},
          "execution_count": 52
        }
      ]
    },
    {
      "cell_type": "code",
      "source": [
        "np.array_equiv(ADU, ADU@np.eye(4))"
      ],
      "metadata": {
        "colab": {
          "base_uri": "https://localhost:8080/"
        },
        "id": "iudue1-tQtok",
        "outputId": "89ec44da-cbe2-47e2-f1c4-6c7a15f11ed7"
      },
      "execution_count": 54,
      "outputs": [
        {
          "output_type": "execute_result",
          "data": {
            "text/plain": [
              "True"
            ]
          },
          "metadata": {},
          "execution_count": 54
        }
      ]
    },
    {
      "cell_type": "markdown",
      "source": [
        "## Sixth Property"
      ],
      "metadata": {
        "id": "CBGuO3tERiiL"
      }
    },
    {
      "cell_type": "code",
      "source": [
        "ADU @ np.zeros((4,4))"
      ],
      "metadata": {
        "colab": {
          "base_uri": "https://localhost:8080/"
        },
        "id": "fBuFz4EDRkPH",
        "outputId": "da1338d6-dcf1-4c30-ccfd-934d90e64db4"
      },
      "execution_count": 55,
      "outputs": [
        {
          "output_type": "execute_result",
          "data": {
            "text/plain": [
              "array([[0., 0., 0., 0.],\n",
              "       [0., 0., 0., 0.],\n",
              "       [0., 0., 0., 0.],\n",
              "       [0., 0., 0., 0.]])"
            ]
          },
          "metadata": {},
          "execution_count": 55
        }
      ]
    },
    {
      "cell_type": "code",
      "source": [
        "np.zeros((4,4))"
      ],
      "metadata": {
        "colab": {
          "base_uri": "https://localhost:8080/"
        },
        "id": "n0Cfr7-DRuic",
        "outputId": "95ceaf28-e89f-431b-fe83-11380bebd5fb"
      },
      "execution_count": 56,
      "outputs": [
        {
          "output_type": "execute_result",
          "data": {
            "text/plain": [
              "array([[0., 0., 0., 0.],\n",
              "       [0., 0., 0., 0.],\n",
              "       [0., 0., 0., 0.],\n",
              "       [0., 0., 0., 0.]])"
            ]
          },
          "metadata": {},
          "execution_count": 56
        }
      ]
    },
    {
      "cell_type": "code",
      "source": [
        "np.array_equiv(ADU @ np.zeros((4,4)),np.zeros((4,4)))"
      ],
      "metadata": {
        "colab": {
          "base_uri": "https://localhost:8080/"
        },
        "id": "3xmmpnSqRx_1",
        "outputId": "5c15a52d-ec8e-437f-a7c1-2c9d0f208c2a"
      },
      "execution_count": 58,
      "outputs": [
        {
          "output_type": "execute_result",
          "data": {
            "text/plain": [
              "True"
            ]
          },
          "metadata": {},
          "execution_count": 58
        }
      ]
    }
  ]
}