{
  "nbformat": 4,
  "nbformat_minor": 0,
  "metadata": {
    "colab": {
      "name": "Assignment 10 - Barcelon",
      "provenance": [],
      "collapsed_sections": [],
      "authorship_tag": "ABX9TyPa0pUk/LgfzvySh/rZNeLi",
      "include_colab_link": true
    },
    "kernelspec": {
      "name": "python3",
      "display_name": "Python 3"
    },
    "language_info": {
      "name": "python"
    }
  },
  "cells": [
    {
      "cell_type": "markdown",
      "metadata": {
        "id": "view-in-github",
        "colab_type": "text"
      },
      "source": [
        "<a href=\"https://colab.research.google.com/github/JuanBarcelon/Linear_Algebra_ChE_2nd-Sem-2021-2022/blob/main/Assignment_10_Barcelon.ipynb\" target=\"_parent\"><img src=\"https://colab.research.google.com/assets/colab-badge.svg\" alt=\"Open In Colab\"/></a>"
      ]
    },
    {
      "cell_type": "markdown",
      "source": [
        "#**Laboratory 6: Linear Combination and Vector Spaces**\n",
        "\n",
        "Now that you have a fundamental knowledge about linear combination, we'll try to visualize it using scientific programming.\n",
        "\n",
        "**Objectives**\n",
        "At the end of this activity you will be able to:\n",
        "1. Be familiar with representing linear combinations in the 2-dimensional plane.\n",
        "2. Visualize spans using vector fields in Python.\n",
        "3. Perform vector fields operations using scientific programming."
      ],
      "metadata": {
        "id": "SO1CP63YkK9M"
      }
    },
    {
      "cell_type": "markdown",
      "source": [
        "#Discussion"
      ],
      "metadata": {
        "id": "Ks_aqpKXkeOs"
      }
    },
    {
      "cell_type": "code",
      "source": [
        "import numpy as np\n",
        "import matplotlib.pyplot as plt\n",
        "%matplotlib inline"
      ],
      "metadata": {
        "id": "w4Sybl5Okfvy"
      },
      "execution_count": null,
      "outputs": []
    },
    {
      "cell_type": "markdown",
      "source": [
        "#Linear Combination\n",
        "It is said that a linear combination is the combination of linear scaling and addition of a vector its bases/components\n",
        "\n",
        "We will try to visualize the vectors and their linear combinations by plotting a sample of real number values for the scalars for the vectors. Let's first try the vectors below:\n",
        "\n",
        "$$X = \\begin{bmatrix} 10\\\\15 \\\\\\end{bmatrix} , Y = \\begin{bmatrix} 3\\\\18\\\\\\end {bmatrix} $$"
      ],
      "metadata": {
        "id": "dfYqWno3khtI"
      }
    },
    {
      "cell_type": "code",
      "source": [
        "vect_X =  np.array([10,15])\n",
        "vect_Y =  np.array([3,18])\n",
        "vect_Y"
      ],
      "metadata": {
        "colab": {
          "base_uri": "https://localhost:8080/"
        },
        "id": "Q77APfYMklWm",
        "outputId": "1f229cd3-177b-48ec-dcab-a17803595014"
      },
      "execution_count": null,
      "outputs": [
        {
          "output_type": "execute_result",
          "data": {
            "text/plain": [
              "array([ 3, 18])"
            ]
          },
          "metadata": {},
          "execution_count": 2
        }
      ]
    },
    {
      "cell_type": "markdown",
      "source": [
        "#Span of Single Vectors\n",
        "As discussed in the lecture, the span of individual vectors can be represented by a line span. Let's take vector  as an example.\n",
        "\n",
        "$$X = c\\cdot\\begin{bmatrix} 10\\\\15\\\\\\end{bmatrix}$$\n",
        "\n",
        "C is the spanning of the sing vector"
      ],
      "metadata": {
        "id": "78uyYJBOk3tm"
      }
    },
    {
      "cell_type": "code",
      "source": [
        "c = np.arange(-15,15,0.13)\n",
        "\n",
        "plt.scatter(c*vect_X[0],c*vect_X[1])\n",
        "\n",
        "plt.xlim(-10,10)\n",
        "plt.ylim(-10,10)\n",
        "plt.axhline(y=0, color='Orange')\n",
        "plt.axvline(x=0, color='blue')\n",
        "plt.grid()\n",
        "plt.show()"
      ],
      "metadata": {
        "colab": {
          "base_uri": "https://localhost:8080/",
          "height": 269
        },
        "id": "91bOaI4Uk7z3",
        "outputId": "2638eb16-06bb-451b-a0c7-dcacbb967625"
      },
      "execution_count": null,
      "outputs": [
        {
          "output_type": "display_data",
          "data": {
            "text/plain": [
              "<Figure size 432x288 with 1 Axes>"
            ],
            "image/png": "[encoded data removed]"
          },
          "metadata": {
            "needs_background": "light"
          }
        }
      ]
    },
    {
      "cell_type": "markdown",
      "source": [
        "$$Y = c\\cdot\\begin{bmatrix} 3\\\\18\\\\\\end{bmatrix}$$\n"
      ],
      "metadata": {
        "id": "cIDUnzK1oCHS"
      }
    },
    {
      "cell_type": "code",
      "source": [
        "c = np.arange(-8,16,0.5)\n",
        "\n",
        "plt.scatter(c*vect_Y[0],c*vect_Y[1])\n",
        "\n",
        "plt.xlim(-20,20)\n",
        "plt.ylim(-20,20)\n",
        "plt.axhline(y=0, color='k')\n",
        "plt.axvline(x=0, color='k')\n",
        "plt.grid()\n",
        "plt.show()"
      ],
      "metadata": {
        "colab": {
          "base_uri": "https://localhost:8080/",
          "height": 269
        },
        "id": "Rpv3jLLTl1JO",
        "outputId": "4cfcbb23-2019-47e4-dada-86eeabaa83ae"
      },
      "execution_count": null,
      "outputs": [
        {
          "output_type": "display_data",
          "data": {
            "text/plain": [
              "<Figure size 432x288 with 1 Axes>"
            ],
            "image/png": "[encoded data removed]"
          },
          "metadata": {
            "needs_background": "light"
          }
        }
      ]
    },
    {
      "cell_type": "markdown",
      "source": [
        "#Span of a linear combination of vectors\n",
        "So what if we are to plot the span of a linear combination of vectors? We can visualize as a plane on the 2-dimensional coordinate system. Let's take the span of the linear combination below:\n",
        "\n",
        "$$Luna = \\begin{Bmatrix} c_1 \\cdot\\begin{bmatrix} 1\\\\0\\\\\\end{bmatrix},\n",
        "c_2 \\cdot\\begin{bmatrix} 1\\\\-1\\\\\\end{bmatrix}\\end{Bmatrix}$$\n"
      ],
      "metadata": {
        "id": "z2HGm5DWmCYe"
      }
    },
    {
      "cell_type": "code",
      "source": [
        "vectA = np.array([5,10])\n",
        "vectB = np.array([3,-2])\n",
        "\n",
        "R = np.arange(-10,10,1)\n",
        "\n",
        "c1, c2 = np.meshgrid(R,R)\n",
        "\n",
        "vectR = vectA + vectB\n",
        "spanRx = c1*vectA[0] + c2*vectB[0]\n",
        "spanRy = c1*vectA[1] + c2*vectB[1]\n",
        "plt.scatter(R*vectA[0],R*vectA[1])\n",
        "plt.scatter(R*vectB[0],R*vectB[1])\n",
        "plt.scatter(spanRx,spanRy, s=5, alpha=0.75)\n",
        "\n",
        "plt.axhline(y=0, color='k')\n",
        "plt.axvline(x=0, color='k')\n",
        "plt.grid()\n",
        "plt.show()"
      ],
      "metadata": {
        "colab": {
          "base_uri": "https://localhost:8080/",
          "height": 265
        },
        "id": "Xnh3N8whmHky",
        "outputId": "13713299-b806-4082-b689-d774f632b61f"
      },
      "execution_count": null,
      "outputs": [
        {
          "output_type": "display_data",
          "data": {
            "text/plain": [
              "<Figure size 432x288 with 1 Axes>"
            ],
            "image/png": "[encoded data removed]"
          },
          "metadata": {
            "needs_background": "light"
          }
        }
      ]
    },
    {
      "cell_type": "code",
      "source": [
        ""
      ],
      "metadata": {
        "id": "G9u2vMH0miNX"
      },
      "execution_count": null,
      "outputs": []
    },
    {
      "cell_type": "markdown",
      "source": [
        "Try different linear combinations using different scalar values. In your methodology discuss the different functions that you have used, the linear equation and vector form of the linear combination, and the flowchart for declaring and displaying linear combinations. Please make sure that your flowchart has only few words and not putting the entire code as it is bad practice. In your results, display and discuss the linear combination visualization you made. You should use the cells below for displaying the equation markdows using LaTeX and your code."
      ],
      "metadata": {
        "id": "t9-yB7OTmqnP"
      }
    },
    {
      "cell_type": "markdown",
      "source": [
        "**Linear Equation**\n",
        "$$James = 13\\hat{x} + -5\\hat{y} \\\\\n",
        "Curry = 4\\hat{x} +1\\hat{y}\\\\\n",
        "$$\n",
        "\n",
        "**Vector Form**\n",
        "$$James = \\begin{bmatrix} 13\\\\-5 \\\\\\end{bmatrix} , Curry = \\begin{bmatrix} 4\\\\1\\\\\\end {bmatrix} $$\n",
        "\n",
        "LaTeX\n",
        "$$Luna = \\begin{Bmatrix} c_1 \\cdot\\begin{bmatrix} 13\\\\-5\\\\\\end{bmatrix},\n",
        "c_2 \\cdot\\begin{bmatrix} 4\\\\1\\\\\\end{bmatrix}\\end{Bmatrix}$$"
      ],
      "metadata": {
        "id": "LSsn_pI7eiEk"
      }
    },
    {
      "cell_type": "code",
      "source": [
        "james = np.array([13,-5])\n",
        "curry = np.array([4,1])\n",
        "\n",
        "NBA = np.arange(-12,12,1.8)\n",
        "\n",
        "c1, c2 = np.meshgrid(NBA,NBA)\n",
        "\n",
        "vecNBA = james + curry\n",
        "spanRx = c1*james[0] + c2*curry[0]\n",
        "spanRy = c1*james[1] + c2*curry[1]\n",
        "\n",
        "plt.scatter(NBA*james[0],NBA*james[1])\n",
        "plt.scatter(NBA*curry[0],NBA*curry[1])\n",
        "plt.scatter(spanRx,spanRy, s=5, alpha=0.75)\n",
        "\n",
        "plt.axhline(y=0, color='blue')\n",
        "plt.axvline(x=0, color='magenta')\n",
        "plt.grid()\n",
        "plt.show()"
      ],
      "metadata": {
        "colab": {
          "base_uri": "https://localhost:8080/",
          "height": 265
        },
        "id": "33edAgcRhP5w",
        "outputId": "932f8f53-9abe-484d-ccdc-de62f9f625c4"
      },
      "execution_count": null,
      "outputs": [
        {
          "output_type": "display_data",
          "data": {
            "text/plain": [
              "<Figure size 432x288 with 1 Axes>"
            ],
            "image/png": "[encoded data removed]"
          },
          "metadata": {
            "needs_background": "light"
          }
        }
      ]
    }
  ]
}