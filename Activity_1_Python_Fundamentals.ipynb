{
  "nbformat": 4,
  "nbformat_minor": 0,
  "metadata": {
    "colab": {
      "name": "Activity 1 - Python Fundamentals",
      "provenance": [],
      "authorship_tag": "ABX9TyOlXCXGKz+wEKxv+8hpVdC3",
      "include_colab_link": true
    },
    "kernelspec": {
      "name": "python3",
      "display_name": "Python 3"
    },
    "language_info": {
      "name": "python"
    }
  },
  "cells": [
    {
      "cell_type": "markdown",
      "metadata": {
        "id": "view-in-github",
        "colab_type": "text"
      },
      "source": [
        "<a href=\"https://colab.research.google.com/github/JuanBarcelon/Linear_Algebra_ChE_2nd-Sem-2021-2022/blob/main/Activity_1_Python_Fundamentals.ipynb\" target=\"_parent\"><img src=\"https://colab.research.google.com/assets/colab-badge.svg\" alt=\"Open In Colab\"/></a>"
      ]
    },
    {
      "cell_type": "code",
      "execution_count": null,
      "metadata": {
        "id": "Bk3PbLxj9ytF"
      },
      "outputs": [],
      "source": [
        ""
      ]
    },
    {
      "cell_type": "markdown",
      "source": [
        "# Welcome to Python Fundamentals\n",
        "In this module, we are going to establish or review our skills in Python programming. In this notebook we are going to cover:\n",
        "* Variables and Data Types \n",
        "* Operations\n",
        "* Input and Output Operations\n",
        "* Logic Control\n",
        "* Iterables\n",
        "* Functions"
      ],
      "metadata": {
        "id": "TAtliFIF_eHH"
      }
    },
    {
      "cell_type": "markdown",
      "source": [
        "## Variables and Data Types\n"
      ],
      "metadata": {
        "id": "2E2-LKTFAKRC"
      }
    },
    {
      "cell_type": "markdown",
      "source": [
        ""
      ],
      "metadata": {
        "id": "sPb-MWYdAJAk"
      }
    },
    {
      "cell_type": "markdown",
      "source": [
        ""
      ],
      "metadata": {
        "id": "Lq-U-3FE_LjY"
      }
    },
    {
      "cell_type": "code",
      "source": [
        "x = 1\n",
        "a,b = 0, -1\n",
        "b"
      ],
      "metadata": {
        "colab": {
          "base_uri": "https://localhost:8080/"
        },
        "id": "4oXfH-YiAZD1",
        "outputId": "622760d2-5296-4754-c34a-93aceca035ac"
      },
      "execution_count": 2,
      "outputs": [
        {
          "output_type": "execute_result",
          "data": {
            "text/plain": [
              "-1"
            ]
          },
          "metadata": {},
          "execution_count": 2
        }
      ]
    },
    {
      "cell_type": "markdown",
      "source": [
        "Above shows declaring of value. yung a,b = 0,1 shows the values of a and b respectively"
      ],
      "metadata": {
        "id": "AnkZuE2LAvfX"
      }
    },
    {
      "cell_type": "code",
      "source": [
        "type(x)"
      ],
      "metadata": {
        "colab": {
          "base_uri": "https://localhost:8080/"
        },
        "id": "dLJV86zQA69l",
        "outputId": "c474ed79-7914-4bbf-febd-c34cdfcba70b"
      },
      "execution_count": 5,
      "outputs": [
        {
          "output_type": "execute_result",
          "data": {
            "text/plain": [
              "int"
            ]
          },
          "metadata": {},
          "execution_count": 5
        }
      ]
    },
    {
      "cell_type": "code",
      "source": [
        "y = 1.0\n",
        "type(y)"
      ],
      "metadata": {
        "colab": {
          "base_uri": "https://localhost:8080/"
        },
        "id": "51fCtOimBjt7",
        "outputId": "43ab2000-ecb3-4bce-b07e-c189fbba9185"
      },
      "execution_count": 7,
      "outputs": [
        {
          "output_type": "execute_result",
          "data": {
            "text/plain": [
              "float"
            ]
          },
          "metadata": {},
          "execution_count": 7
        }
      ]
    },
    {
      "cell_type": "markdown",
      "source": [
        "type(x). s is what interprets the data type. pwede mo ilagay yung a or b sa previous."
      ],
      "metadata": {
        "id": "GcppLKc7BUxi"
      }
    },
    {
      "cell_type": "code",
      "source": [
        "x = float(x)\n",
        "type(x)"
      ],
      "metadata": {
        "colab": {
          "base_uri": "https://localhost:8080/"
        },
        "id": "w1qEByriBs2L",
        "outputId": "ee06c76c-b8e2-4e0b-99a8-2becfaa19408"
      },
      "execution_count": 9,
      "outputs": [
        {
          "output_type": "execute_result",
          "data": {
            "text/plain": [
              "float"
            ]
          },
          "metadata": {},
          "execution_count": 9
        }
      ]
    },
    {
      "cell_type": "markdown",
      "source": [
        "sa line 9. cinonvert lang yung x to a float type. So if you enter x sa ilalim, magiging 1.0 siya"
      ],
      "metadata": {
        "id": "ojMwhyxRB6IR"
      }
    },
    {
      "cell_type": "code",
      "source": [
        "s,t,u = \"0\", '1', 'one'\n",
        "type(u)\n"
      ],
      "metadata": {
        "colab": {
          "base_uri": "https://localhost:8080/"
        },
        "id": "mXk21Yt_CAyF",
        "outputId": "e8b73af6-4fbc-41ee-be28-a8e68dee69c1"
      },
      "execution_count": 12,
      "outputs": [
        {
          "output_type": "execute_result",
          "data": {
            "text/plain": [
              "str"
            ]
          },
          "metadata": {},
          "execution_count": 12
        }
      ]
    },
    {
      "cell_type": "markdown",
      "source": [
        "putting quotation will declare a STRING"
      ],
      "metadata": {
        "id": "iiFRm--lCNDm"
      }
    },
    {
      "cell_type": "code",
      "source": [
        "s_int = int(s)\n",
        "s_int"
      ],
      "metadata": {
        "colab": {
          "base_uri": "https://localhost:8080/"
        },
        "id": "jqDLiDp6Ce66",
        "outputId": "d4a26655-ef82-4eae-d514-08cd1803094e"
      },
      "execution_count": 13,
      "outputs": [
        {
          "output_type": "execute_result",
          "data": {
            "text/plain": [
              "0"
            ]
          },
          "metadata": {},
          "execution_count": 13
        }
      ]
    },
    {
      "cell_type": "markdown",
      "source": [
        "cinonvert yung string na 0, to integer, Inextract niya yung integer sa string"
      ],
      "metadata": {
        "id": "tZ9SXM7wCl7j"
      }
    },
    {
      "cell_type": "markdown",
      "source": [
        "## OPERATIONS"
      ],
      "metadata": {
        "id": "Zgd6Bdf2CweI"
      }
    },
    {
      "cell_type": "code",
      "source": [
        ""
      ],
      "metadata": {
        "id": "q3Q9jgb_C2-T"
      },
      "execution_count": null,
      "outputs": []
    },
    {
      "cell_type": "markdown",
      "source": [
        "# ARITHMETIC"
      ],
      "metadata": {
        "id": "rouh-AeoDBdb"
      }
    },
    {
      "cell_type": "code",
      "source": [
        "a, b, c ,d = 2.0, -0.5, 0, -32"
      ],
      "metadata": {
        "id": "Diz8hCA3DDY1"
      },
      "execution_count": 55,
      "outputs": []
    },
    {
      "cell_type": "markdown",
      "source": [
        "nag declare lang tayo dito ng values"
      ],
      "metadata": {
        "id": "nKMMja_ODKSg"
      }
    },
    {
      "cell_type": "code",
      "source": [
        "# Addition\n",
        "S = a+b\n",
        "S"
      ],
      "metadata": {
        "colab": {
          "base_uri": "https://localhost:8080/"
        },
        "id": "YcXoluGYDNXl",
        "outputId": "ddd1b33c-b616-441b-9de5-92aa546280d7"
      },
      "execution_count": 34,
      "outputs": [
        {
          "output_type": "execute_result",
          "data": {
            "text/plain": [
              "1.5"
            ]
          },
          "metadata": {},
          "execution_count": 34
        }
      ]
    },
    {
      "cell_type": "markdown",
      "source": [
        "      a and b was already declared kanina, so we need to do something"
      ],
      "metadata": {
        "id": "LQQsrtOoDu9K"
      }
    },
    {
      "cell_type": "code",
      "source": [
        "### SUBTRACTION\n",
        "D = b-d\n",
        "D\n"
      ],
      "metadata": {
        "colab": {
          "base_uri": "https://localhost:8080/"
        },
        "id": "HSvn6AuxEgi8",
        "outputId": "dd6da1a4-abbb-4f0b-e84a-b63316157aec"
      },
      "execution_count": 35,
      "outputs": [
        {
          "output_type": "execute_result",
          "data": {
            "text/plain": [
              "31.5"
            ]
          },
          "metadata": {},
          "execution_count": 35
        }
      ]
    },
    {
      "cell_type": "code",
      "source": [
        "### Floor Division\n",
        "Fq = a//b\n",
        "Fq"
      ],
      "metadata": {
        "colab": {
          "base_uri": "https://localhost:8080/"
        },
        "id": "5V4vd20yE5WE",
        "outputId": "e78e6858-0077-417e-a4e8-50464343c800"
      },
      "execution_count": 33,
      "outputs": [
        {
          "output_type": "execute_result",
          "data": {
            "text/plain": [
              "-4.0"
            ]
          },
          "metadata": {},
          "execution_count": 33
        }
      ]
    },
    {
      "cell_type": "code",
      "source": [
        "### Exponentiation\n",
        "E = a**b\n",
        "E\n"
      ],
      "metadata": {
        "colab": {
          "base_uri": "https://localhost:8080/"
        },
        "id": "CTysK95UFcwA",
        "outputId": "6522dda7-db1a-4cf5-d794-5ce647c36d9c"
      },
      "execution_count": 36,
      "outputs": [
        {
          "output_type": "execute_result",
          "data": {
            "text/plain": [
              "0.7071067811865476"
            ]
          },
          "metadata": {},
          "execution_count": 36
        }
      ]
    },
    {
      "cell_type": "code",
      "source": [
        "### Module\n",
        "mod = d%a\n",
        "mod"
      ],
      "metadata": {
        "colab": {
          "base_uri": "https://localhost:8080/"
        },
        "id": "s8mZFCMYIjnb",
        "outputId": "13650341-405f-417c-cfd9-965f72e556a3"
      },
      "execution_count": 44,
      "outputs": [
        {
          "output_type": "execute_result",
          "data": {
            "text/plain": [
              "2.0"
            ]
          },
          "metadata": {},
          "execution_count": 44
        }
      ]
    },
    {
      "cell_type": "markdown",
      "source": [
        "                          module means didivide, pero yung divider yung ilalabas. "
      ],
      "metadata": {
        "id": "JrK97l0gIrfH"
      }
    },
    {
      "cell_type": "markdown",
      "source": [
        "# ASSIGNMENT OPERATIONS"
      ],
      "metadata": {
        "id": "kObc5G4MJF40"
      }
    },
    {
      "cell_type": "code",
      "source": [
        "G , H , J , K = 0, 100, 2, 2"
      ],
      "metadata": {
        "id": "642N_YttJHmL"
      },
      "execution_count": 70,
      "outputs": []
    },
    {
      "cell_type": "code",
      "source": [
        "G += a\n",
        "G"
      ],
      "metadata": {
        "colab": {
          "base_uri": "https://localhost:8080/"
        },
        "id": "aqlRGkhrJ1Pm",
        "outputId": "3185b2c7-299c-4468-aaec-f69caf1be1ae"
      },
      "execution_count": 50,
      "outputs": [
        {
          "output_type": "execute_result",
          "data": {
            "text/plain": [
              "8.0"
            ]
          },
          "metadata": {},
          "execution_count": 50
        }
      ]
    },
    {
      "cell_type": "markdown",
      "source": [
        "pag ni play mo tuloy tuloy yung pag add. pag +=, tuloy tuloy mag add. pag =+ di magttake effect"
      ],
      "metadata": {
        "id": "-dde7q7yKCCH"
      }
    },
    {
      "cell_type": "code",
      "source": [
        "H -= d\n",
        "H"
      ],
      "metadata": {
        "colab": {
          "base_uri": "https://localhost:8080/"
        },
        "id": "L657eWDJKEcC",
        "outputId": "110ad714-a3d8-47c2-e3ff-ec0c38b8a4fc"
      },
      "execution_count": 61,
      "outputs": [
        {
          "output_type": "execute_result",
          "data": {
            "text/plain": [
              "292"
            ]
          },
          "metadata": {},
          "execution_count": 61
        }
      ]
    },
    {
      "cell_type": "code",
      "source": [
        "J *= 2\n",
        "J"
      ],
      "metadata": {
        "colab": {
          "base_uri": "https://localhost:8080/"
        },
        "id": "Qm2Wk6ILK-n8",
        "outputId": "17cc56c1-104f-4d74-802c-2dad48f69ee7"
      },
      "execution_count": 71,
      "outputs": [
        {
          "output_type": "execute_result",
          "data": {
            "text/plain": [
              "4"
            ]
          },
          "metadata": {},
          "execution_count": 71
        }
      ]
    },
    {
      "cell_type": "code",
      "source": [
        "K **= 3\n",
        "K"
      ],
      "metadata": {
        "colab": {
          "base_uri": "https://localhost:8080/"
        },
        "id": "H7yKPINtLLg4",
        "outputId": "121c33b8-d582-4571-e9c1-2f02537e7ee9"
      },
      "execution_count": 74,
      "outputs": [
        {
          "output_type": "execute_result",
          "data": {
            "text/plain": [
              "512"
            ]
          },
          "metadata": {},
          "execution_count": 74
        }
      ]
    },
    {
      "cell_type": "markdown",
      "source": [
        "## COMPARATOS\n"
      ],
      "metadata": {
        "id": "XGKZ9tgoLT8X"
      }
    },
    {
      "cell_type": "code",
      "source": [
        "res_1, res_2, res_3 = 1,2.0, \"1\"\n",
        "true_val = 1.0"
      ],
      "metadata": {
        "id": "1fYTQ4D0LWMl"
      },
      "execution_count": 76,
      "outputs": []
    },
    {
      "cell_type": "markdown",
      "source": [
        "for comparing values etong comparators"
      ],
      "metadata": {
        "id": "Jy2FwdzvLfbg"
      }
    },
    {
      "cell_type": "code",
      "source": [
        "## Equality\n",
        "res_1 == true_val"
      ],
      "metadata": {
        "colab": {
          "base_uri": "https://localhost:8080/"
        },
        "id": "jtm_h8cgLhhi",
        "outputId": "eb369f45-f8d2-49d6-a011-920a655ca316"
      },
      "execution_count": 77,
      "outputs": [
        {
          "output_type": "execute_result",
          "data": {
            "text/plain": [
              "True"
            ]
          },
          "metadata": {},
          "execution_count": 77
        }
      ]
    },
    {
      "cell_type": "code",
      "source": [
        "## Non-equality\n",
        "res_2 != true_val"
      ],
      "metadata": {
        "colab": {
          "base_uri": "https://localhost:8080/"
        },
        "id": "l4mjo1IILr6y",
        "outputId": "a4d6c953-2aa8-4453-dd3a-33d74e800c48"
      },
      "execution_count": 78,
      "outputs": [
        {
          "output_type": "execute_result",
          "data": {
            "text/plain": [
              "True"
            ]
          },
          "metadata": {},
          "execution_count": 78
        }
      ]
    },
    {
      "cell_type": "code",
      "source": [
        "## Inequality\n",
        "t1 = res_1 > res_2\n",
        "t2 = res_1 < res_2/res_2\n",
        "t3 = res_1 >= res_2/2\n",
        "t4 = res_1 <= res_2\n",
        "t4"
      ],
      "metadata": {
        "colab": {
          "base_uri": "https://localhost:8080/"
        },
        "id": "o52x2X6tL2Lf",
        "outputId": "f70a7421-6563-41d3-c892-04c090bf19a7"
      },
      "execution_count": 83,
      "outputs": [
        {
          "output_type": "execute_result",
          "data": {
            "text/plain": [
              "True"
            ]
          },
          "metadata": {},
          "execution_count": 83
        }
      ]
    },
    {
      "cell_type": "markdown",
      "source": [
        "# Logical"
      ],
      "metadata": {
        "id": "VsUCkBpwMVkn"
      }
    },
    {
      "cell_type": "code",
      "source": [
        "res_1 == true_val"
      ],
      "metadata": {
        "colab": {
          "base_uri": "https://localhost:8080/"
        },
        "id": "Q7MPCl9UMWqo",
        "outputId": "543e717d-f1b1-4f98-da51-11f137e4291c"
      },
      "execution_count": 84,
      "outputs": [
        {
          "output_type": "execute_result",
          "data": {
            "text/plain": [
              "True"
            ]
          },
          "metadata": {},
          "execution_count": 84
        }
      ]
    },
    {
      "cell_type": "code",
      "source": [
        "res_1 is true_val"
      ],
      "metadata": {
        "colab": {
          "base_uri": "https://localhost:8080/"
        },
        "id": "r8aOnr1QMZnp",
        "outputId": "6bfc6647-ec5c-4f3a-c5c8-bf9b66661d08"
      },
      "execution_count": 85,
      "outputs": [
        {
          "output_type": "execute_result",
          "data": {
            "text/plain": [
              "False"
            ]
          },
          "metadata": {},
          "execution_count": 85
        }
      ]
    },
    {
      "cell_type": "code",
      "source": [
        "res_1 is not true_val"
      ],
      "metadata": {
        "colab": {
          "base_uri": "https://localhost:8080/"
        },
        "id": "uiugGyQFMeJw",
        "outputId": "b61ac7e0-4ede-434f-d9a7-ea8294a9f0b1"
      },
      "execution_count": 86,
      "outputs": [
        {
          "output_type": "execute_result",
          "data": {
            "text/plain": [
              "True"
            ]
          },
          "metadata": {},
          "execution_count": 86
        }
      ]
    },
    {
      "cell_type": "code",
      "source": [
        "p, q = True, False\n",
        "conj = p and q\n",
        "conj"
      ],
      "metadata": {
        "colab": {
          "base_uri": "https://localhost:8080/"
        },
        "id": "XwPkgmtiMgqc",
        "outputId": "fa7f9c4f-986b-4c76-88b3-f165460e44b8"
      },
      "execution_count": 87,
      "outputs": [
        {
          "output_type": "execute_result",
          "data": {
            "text/plain": [
              "False"
            ]
          },
          "metadata": {},
          "execution_count": 87
        }
      ]
    },
    {
      "cell_type": "markdown",
      "source": [
        "magiging true lang si and kapag both statements are true. AND = CONJUNCTION"
      ],
      "metadata": {
        "id": "BrhJXDo1M0a_"
      }
    },
    {
      "cell_type": "code",
      "source": [
        "p, q = True, False\n",
        "disj = p or q\n",
        "disj"
      ],
      "metadata": {
        "colab": {
          "base_uri": "https://localhost:8080/"
        },
        "id": "eXTyijIJNerg",
        "outputId": "0ef1d51b-50b1-4963-a5d8-c4c578be562b"
      },
      "execution_count": 89,
      "outputs": [
        {
          "output_type": "execute_result",
          "data": {
            "text/plain": [
              "True"
            ]
          },
          "metadata": {},
          "execution_count": 89
        }
      ]
    },
    {
      "cell_type": "markdown",
      "source": [
        "disjunction = OR. false lang kapag parehong false"
      ],
      "metadata": {
        "id": "qMTDjLnaNn02"
      }
    },
    {
      "cell_type": "code",
      "source": [
        "p, q = True, False\n",
        "nand = not(p and q)\n",
        "nand"
      ],
      "metadata": {
        "colab": {
          "base_uri": "https://localhost:8080/"
        },
        "id": "AkeUDfUZOEeN",
        "outputId": "fda6d813-50e4-4f89-dd48-e63b8e173af0"
      },
      "execution_count": 90,
      "outputs": [
        {
          "output_type": "execute_result",
          "data": {
            "text/plain": [
              "True"
            ]
          },
          "metadata": {},
          "execution_count": 90
        }
      ]
    },
    {
      "cell_type": "markdown",
      "source": [
        "pag not, babaliktarin lang. Ginawa dito is conjunction sa parenthesis, then ni not"
      ],
      "metadata": {
        "id": "hdqolgYSOLf0"
      }
    },
    {
      "cell_type": "code",
      "source": [
        "p, q = True, False\n",
        "xor = (not p and q) or (p and not q)\n",
        "xor"
      ],
      "metadata": {
        "colab": {
          "base_uri": "https://localhost:8080/"
        },
        "id": "ldlQHR2jOjwv",
        "outputId": "5d749e52-308a-4632-c3c6-1e939f52ff60"
      },
      "execution_count": 91,
      "outputs": [
        {
          "output_type": "execute_result",
          "data": {
            "text/plain": [
              "True"
            ]
          },
          "metadata": {},
          "execution_count": 91
        }
      ]
    },
    {
      "cell_type": "markdown",
      "source": [
        "## I/O\n",
        "\n",
        "* I/O means input output"
      ],
      "metadata": {
        "id": "8uzlKN6SO8uB"
      }
    },
    {
      "cell_type": "code",
      "source": [
        "print (\"Helllo World\")"
      ],
      "metadata": {
        "colab": {
          "base_uri": "https://localhost:8080/"
        },
        "id": "VRWuGX0FPH8k",
        "outputId": "68514393-ca03-4723-d285-b5ca9f88c96a"
      },
      "execution_count": 92,
      "outputs": [
        {
          "output_type": "stream",
          "name": "stdout",
          "text": [
            "Helllo World\n"
          ]
        }
      ]
    },
    {
      "cell_type": "code",
      "source": [
        "cnt = 1"
      ],
      "metadata": {
        "id": "vUuGIkvhPNCn"
      },
      "execution_count": 93,
      "outputs": []
    },
    {
      "cell_type": "code",
      "source": [
        "string = \"Hello World\"\n",
        "print(string, \", Current run count is:\", cnt)\n",
        "cnt +=1"
      ],
      "metadata": {
        "colab": {
          "base_uri": "https://localhost:8080/"
        },
        "id": "l5PCHCOcPZ7m",
        "outputId": "b475cc7c-d2cb-4590-9fd0-79eef3d4ba2b"
      },
      "execution_count": 97,
      "outputs": [
        {
          "output_type": "stream",
          "name": "stdout",
          "text": [
            "Hello World , Current run count is: 4\n"
          ]
        }
      ]
    },
    {
      "cell_type": "markdown",
      "source": [
        "sa cnt is count, ang gustong palabasin dito is"
      ],
      "metadata": {
        "id": "MZAfABHLPQNn"
      }
    },
    {
      "cell_type": "code",
      "source": [
        "print(f\"{string}', Current count is: {cnt}\")\n"
      ],
      "metadata": {
        "colab": {
          "base_uri": "https://localhost:8080/"
        },
        "id": "jIO-vLz2P0px",
        "outputId": "9d583f59-1099-46ca-c679-9f3046388b4e"
      },
      "execution_count": 99,
      "outputs": [
        {
          "output_type": "stream",
          "name": "stdout",
          "text": [
            "Hello World', Current count is: 5\n"
          ]
        }
      ]
    },
    {
      "cell_type": "code",
      "source": [
        "sem_grade = 82.5\n",
        "name = \"yuan\"\n",
        "print(\"hello {}, your semestral grade is: {}\".format(name, sem_grade))\n",
        "\n",
        "print(\"hello\", name, \", your sem grade is:\", sem_grade)"
      ],
      "metadata": {
        "colab": {
          "base_uri": "https://localhost:8080/"
        },
        "id": "0rr_dqBPQPui",
        "outputId": "ec9a3eb2-f968-43b4-ee98-f3850978923f"
      },
      "execution_count": 102,
      "outputs": [
        {
          "output_type": "stream",
          "name": "stdout",
          "text": [
            "hello yuan, your semestral grade is: 82.5\n",
            "hello yuan , your sem grade is: 82.5\n"
          ]
        }
      ]
    },
    {
      "cell_type": "code",
      "source": [
        ""
      ],
      "metadata": {
        "id": "D7X2MN1XNq8Y"
      },
      "execution_count": null,
      "outputs": []
    }
  ]
}