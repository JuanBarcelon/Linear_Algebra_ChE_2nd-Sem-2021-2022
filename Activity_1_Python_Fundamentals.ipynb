{
  "nbformat": 4,
  "nbformat_minor": 0,
  "metadata": {
    "colab": {
      "name": "Activity 1 - Python Fundamentals",
      "provenance": [],
      "authorship_tag": "ABX9TyPOp21smHk/3Ig+yEh1+v55",
      "include_colab_link": true
    },
    "kernelspec": {
      "name": "python3",
      "display_name": "Python 3"
    },
    "language_info": {
      "name": "python"
    }
  },
  "cells": [
    {
      "cell_type": "markdown",
      "metadata": {
        "id": "view-in-github",
        "colab_type": "text"
      },
      "source": [
        "<a href=\"https://colab.research.google.com/github/JuanBarcelon/Linear_Algebra_ChE_2nd-Sem-2021-2022/blob/main/Activity_1_Python_Fundamentals.ipynb\" target=\"_parent\"><img src=\"https://colab.research.google.com/assets/colab-badge.svg\" alt=\"Open In Colab\"/></a>"
      ]
    },
    {
      "cell_type": "markdown",
      "source": [
        "# Welcome to Python Fundamentals\n",
        "In this module, we are going to establish or review our skills in Python programming. In this notebook we are going to cover:\n",
        "* Variables and Data Types \n",
        "* Operations\n",
        "* Input and Output Operations\n",
        "* Logic Control\n",
        "* Iterables\n",
        "* Functions"
      ],
      "metadata": {
        "id": "dfdqKghQX57L"
      }
    },
    {
      "cell_type": "markdown",
      "source": [
        "# **Variables and Data Types**\n"
      ],
      "metadata": {
        "id": "2E2-LKTFAKRC"
      }
    },
    {
      "cell_type": "code",
      "source": [
        "Number30 = 30\n",
        "a,Nike = 0, 20\n",
        "Nike"
      ],
      "metadata": {
        "id": "4oXfH-YiAZD1"
      },
      "execution_count": null,
      "outputs": []
    },
    {
      "cell_type": "code",
      "source": [
        "type(Number)"
      ],
      "metadata": {
        "id": "dLJV86zQA69l"
      },
      "execution_count": null,
      "outputs": []
    },
    {
      "cell_type": "code",
      "source": [
        "A = 5.0\n",
        "type(A)"
      ],
      "metadata": {
        "id": "51fCtOimBjt7"
      },
      "execution_count": null,
      "outputs": []
    },
    {
      "cell_type": "code",
      "source": [
        "Number30 = float(Number30)\n",
        "type(Number30)\n",
        "Number30"
      ],
      "metadata": {
        "id": "w1qEByriBs2L"
      },
      "execution_count": null,
      "outputs": []
    },
    {
      "cell_type": "code",
      "source": [
        "s,t,u = \"900\", '500', 'Five Hundred'\n",
        "type(u)\n"
      ],
      "metadata": {
        "id": "mXk21Yt_CAyF"
      },
      "execution_count": null,
      "outputs": []
    },
    {
      "cell_type": "code",
      "source": [
        "integer = int(500000)\n",
        "integer"
      ],
      "metadata": {
        "id": "jqDLiDp6Ce66"
      },
      "execution_count": null,
      "outputs": []
    },
    {
      "cell_type": "markdown",
      "source": [
        "# **Operations**"
      ],
      "metadata": {
        "id": "4RuTzQbFJtTX"
      }
    },
    {
      "cell_type": "markdown",
      "source": [
        "## ARITHMETIC"
      ],
      "metadata": {
        "id": "rouh-AeoDBdb"
      }
    },
    {
      "cell_type": "code",
      "source": [
        "a, b, c ,d = 70, 6, 0, -32"
      ],
      "metadata": {
        "id": "Diz8hCA3DDY1"
      },
      "execution_count": null,
      "outputs": []
    },
    {
      "cell_type": "code",
      "source": [
        "### Addition\n",
        "adding = a+b\n",
        "adding"
      ],
      "metadata": {
        "id": "YcXoluGYDNXl"
      },
      "execution_count": null,
      "outputs": []
    },
    {
      "cell_type": "code",
      "source": [
        "### SUBTRACTION\n",
        "Subtract = b-d\n",
        "Subtract\n"
      ],
      "metadata": {
        "id": "HSvn6AuxEgi8"
      },
      "execution_count": null,
      "outputs": []
    },
    {
      "cell_type": "code",
      "source": [
        "### Multiplication\n",
        "\n",
        "Multiply = a*b*c\n",
        "Multiply"
      ],
      "metadata": {
        "id": "VytMIDmpbag3"
      },
      "execution_count": null,
      "outputs": []
    },
    {
      "cell_type": "code",
      "source": [
        "### Floor Division\n",
        "Floor_Divide = a//b\n",
        "Floor_Divide"
      ],
      "metadata": {
        "id": "5V4vd20yE5WE"
      },
      "execution_count": null,
      "outputs": []
    },
    {
      "cell_type": "code",
      "source": [
        "### Division\n",
        "Divide = b/a\n",
        "Divide"
      ],
      "metadata": {
        "id": "7LujFpVA4RQK"
      },
      "execution_count": null,
      "outputs": []
    },
    {
      "cell_type": "code",
      "source": [
        "### Exponentiation\n",
        "Exponent = a**b\n",
        "Exponent\n"
      ],
      "metadata": {
        "id": "CTysK95UFcwA"
      },
      "execution_count": null,
      "outputs": []
    },
    {
      "cell_type": "code",
      "source": [
        "### Module\n",
        "mod = d%a\n",
        "mod"
      ],
      "metadata": {
        "id": "s8mZFCMYIjnb"
      },
      "execution_count": null,
      "outputs": []
    },
    {
      "cell_type": "markdown",
      "source": [
        "## ASSIGNMENT OPERATIONS"
      ],
      "metadata": {
        "id": "kObc5G4MJF40"
      }
    },
    {
      "cell_type": "code",
      "source": [
        "G , H , J , K = 100, 200, 300, 400"
      ],
      "metadata": {
        "id": "642N_YttJHmL"
      },
      "execution_count": null,
      "outputs": []
    },
    {
      "cell_type": "code",
      "source": [
        "G += H\n",
        "G"
      ],
      "metadata": {
        "id": "aqlRGkhrJ1Pm"
      },
      "execution_count": null,
      "outputs": []
    },
    {
      "cell_type": "code",
      "source": [
        "H -= d\n",
        "H"
      ],
      "metadata": {
        "id": "L657eWDJKEcC"
      },
      "execution_count": null,
      "outputs": []
    },
    {
      "cell_type": "code",
      "source": [
        "J *= 2\n",
        "J"
      ],
      "metadata": {
        "id": "Qm2Wk6ILK-n8"
      },
      "execution_count": null,
      "outputs": []
    },
    {
      "cell_type": "code",
      "source": [
        "K **= 3\n",
        "K"
      ],
      "metadata": {
        "id": "H7yKPINtLLg4"
      },
      "execution_count": null,
      "outputs": []
    },
    {
      "cell_type": "markdown",
      "source": [
        "## COMPARATOS\n"
      ],
      "metadata": {
        "id": "XGKZ9tgoLT8X"
      }
    },
    {
      "cell_type": "code",
      "source": [
        "res_1, res_2, res_3 = 3,5.0, \"1\"\n",
        "true_val = 1.0"
      ],
      "metadata": {
        "id": "1fYTQ4D0LWMl"
      },
      "execution_count": null,
      "outputs": []
    },
    {
      "cell_type": "code",
      "source": [
        "## Equality\n",
        "res_1 == true_val"
      ],
      "metadata": {
        "id": "jtm_h8cgLhhi"
      },
      "execution_count": null,
      "outputs": []
    },
    {
      "cell_type": "code",
      "source": [
        "## Non-equality\n",
        "res_2 != true_val"
      ],
      "metadata": {
        "id": "l4mjo1IILr6y"
      },
      "execution_count": null,
      "outputs": []
    },
    {
      "cell_type": "code",
      "source": [
        "## Inequality\n",
        "t1 = res_1 > res_2\n",
        "t2 = res_1 < res_2/res_2\n",
        "t3 = res_1 >= res_2/2\n",
        "t4 = res_1 <= res_2\n",
        "print(\"the first is {}, and the second is {}\" .format(t2, t1))"
      ],
      "metadata": {
        "id": "o52x2X6tL2Lf"
      },
      "execution_count": null,
      "outputs": []
    },
    {
      "cell_type": "markdown",
      "source": [
        "## Logical"
      ],
      "metadata": {
        "id": "hWuK3ydUK-di"
      }
    },
    {
      "cell_type": "code",
      "source": [
        "res_1 == true_val"
      ],
      "metadata": {
        "colab": {
          "base_uri": "https://localhost:8080/"
        },
        "outputId": "016c566d-3a4e-4ca6-a511-7619e405884a",
        "id": "Wc2e3037K-dr"
      },
      "execution_count": null,
      "outputs": [
        {
          "output_type": "execute_result",
          "data": {
            "text/plain": [
              "False"
            ]
          },
          "metadata": {},
          "execution_count": 111
        }
      ]
    },
    {
      "cell_type": "code",
      "source": [
        "res_1 is res_1"
      ],
      "metadata": {
        "colab": {
          "base_uri": "https://localhost:8080/"
        },
        "outputId": "0eac9485-ac95-4e2d-a496-8680acdb8d6a",
        "id": "z2zng1QSK-dr"
      },
      "execution_count": null,
      "outputs": [
        {
          "output_type": "execute_result",
          "data": {
            "text/plain": [
              "True"
            ]
          },
          "metadata": {},
          "execution_count": 112
        }
      ]
    },
    {
      "cell_type": "code",
      "source": [
        "res_1 is not true_val"
      ],
      "metadata": {
        "colab": {
          "base_uri": "https://localhost:8080/"
        },
        "outputId": "0f15e923-e748-4610-cd42-80c120dec748",
        "id": "xDUemmVEK-dr"
      },
      "execution_count": null,
      "outputs": [
        {
          "output_type": "execute_result",
          "data": {
            "text/plain": [
              "True"
            ]
          },
          "metadata": {},
          "execution_count": 113
        }
      ]
    },
    {
      "cell_type": "code",
      "source": [
        "p, q = True, False\n",
        "conj = p and q\n",
        "conj"
      ],
      "metadata": {
        "colab": {
          "base_uri": "https://localhost:8080/"
        },
        "outputId": "070ac549-42c2-48cd-f33e-037bc626d08c",
        "id": "KOTsItYUK-dr"
      },
      "execution_count": null,
      "outputs": [
        {
          "output_type": "execute_result",
          "data": {
            "text/plain": [
              "False"
            ]
          },
          "metadata": {},
          "execution_count": 114
        }
      ]
    },
    {
      "cell_type": "code",
      "source": [
        "p, q = True, False\n",
        "disj = p or q\n",
        "disj"
      ],
      "metadata": {
        "colab": {
          "base_uri": "https://localhost:8080/"
        },
        "outputId": "62b98f6d-df65-4623-d034-523c7903c735",
        "id": "KGcj4_1vK-ds"
      },
      "execution_count": null,
      "outputs": [
        {
          "output_type": "execute_result",
          "data": {
            "text/plain": [
              "True"
            ]
          },
          "metadata": {},
          "execution_count": 115
        }
      ]
    },
    {
      "cell_type": "code",
      "source": [
        "p, q = True, False\n",
        "nand = not(p and q)\n",
        "nand"
      ],
      "metadata": {
        "colab": {
          "base_uri": "https://localhost:8080/"
        },
        "outputId": "449f9aad-a6dc-4db4-d805-8c88b6ae4b29",
        "id": "qaKkwpQJK-dt"
      },
      "execution_count": null,
      "outputs": [
        {
          "output_type": "execute_result",
          "data": {
            "text/plain": [
              "True"
            ]
          },
          "metadata": {},
          "execution_count": 116
        }
      ]
    },
    {
      "cell_type": "code",
      "source": [
        "p, q = True, False\n",
        "xor = (not p and q) or (p and not q)\n",
        "xor"
      ],
      "metadata": {
        "colab": {
          "base_uri": "https://localhost:8080/"
        },
        "outputId": "c79d7075-a424-4520-cb29-a0dd056c2eeb",
        "id": "ktWyuVOmK-du"
      },
      "execution_count": null,
      "outputs": [
        {
          "output_type": "execute_result",
          "data": {
            "text/plain": [
              "True"
            ]
          },
          "metadata": {},
          "execution_count": 117
        }
      ]
    },
    {
      "cell_type": "code",
      "source": [
        ""
      ],
      "metadata": {
        "id": "4JcgAvlEL8T2"
      },
      "execution_count": null,
      "outputs": []
    },
    {
      "cell_type": "markdown",
      "source": [
        "## I/O"
      ],
      "metadata": {
        "id": "8uzlKN6SO8uB"
      }
    },
    {
      "cell_type": "code",
      "source": [
        "print (\"Welcome to linear algebra\")"
      ],
      "metadata": {
        "id": "VRWuGX0FPH8k"
      },
      "execution_count": null,
      "outputs": []
    },
    {
      "cell_type": "code",
      "source": [
        "cnt = 1"
      ],
      "metadata": {
        "id": "vUuGIkvhPNCn"
      },
      "execution_count": null,
      "outputs": []
    },
    {
      "cell_type": "code",
      "source": [
        "string = \"welcome to linear algebra\"\n",
        "print(string, \", Current run count is:\", cnt)\n",
        "cnt +=1"
      ],
      "metadata": {
        "id": "l5PCHCOcPZ7m"
      },
      "execution_count": null,
      "outputs": []
    },
    {
      "cell_type": "code",
      "source": [
        "print(f\"{string}, Current count is: {cnt}\")\n"
      ],
      "metadata": {
        "id": "jIO-vLz2P0px"
      },
      "execution_count": null,
      "outputs": []
    },
    {
      "cell_type": "code",
      "source": [
        "sem_grade = 82.5\n",
        "name = \"Barcelon\"\n",
        "verdict = \"passed\"\n",
        "print(\"hello {}, your semestral grade is: {} \\\n",
        "\\nyour verdict is: {}\".format(name, sem_grade, verdict))\n",
        "\n",
        "print(\"hello\", name, \", your sem grade is:\", sem_grade)"
      ],
      "metadata": {
        "id": "0rr_dqBPQPui"
      },
      "execution_count": null,
      "outputs": []
    },
    {
      "cell_type": "code",
      "source": [
        "w_pg, w_mg, w_fg = 30, 0.3, 0.4\n",
        "print(\"The weights of your sem grades are:\\\n",
        "\\n\\t{} for Prelims\\\n",
        "\\n\\t{} for Midterms, and\\\n",
        "\\n\\t{} for Finals.\" .format(w_pg, w_mg, w_fg))\n",
        "\n",
        "print(\"The weights of your sem grades are:\\\n",
        "\\n\\t{:.2%} for Prelims\\\n",
        "\\n\\t{:.2%} for Midterms, and\\\n",
        "\\n\\t{:.2%} for Finals.\" .format(w_pg, w_mg, w_fg))\n",
        "\n"
      ],
      "metadata": {
        "id": "Xk8N1bnZ_KBM"
      },
      "execution_count": null,
      "outputs": []
    },
    {
      "cell_type": "code",
      "source": [
        "x = input(\"Favorite Food: \")\n",
        "y = input(\"Favorite Drink: \")\n",
        "y"
      ],
      "metadata": {
        "id": "u5Ya4p6WBGkG"
      },
      "execution_count": null,
      "outputs": []
    },
    {
      "cell_type": "code",
      "source": [
        "name = input(\"Enter your name: \")\n",
        "pg = input(\"Enter prelim grade: \")\n",
        "mg = input(\"enter midterm grade: \")\n",
        "fg= input(\"Enter finals grade: \")\n",
        "sem_grade = 90\n",
        "print(\"Hello {}, your semestreal grade is: {}\".format(name,sem_grade))"
      ],
      "metadata": {
        "id": "8AHSdRYWDpv5"
      },
      "execution_count": null,
      "outputs": []
    },
    {
      "cell_type": "markdown",
      "source": [
        "# **Looping Statements**"
      ],
      "metadata": {
        "id": "34SV97m9NgHh"
      }
    },
    {
      "cell_type": "markdown",
      "source": [
        "### While"
      ],
      "metadata": {
        "id": "MrBuxs8gNmoa"
      }
    },
    {
      "cell_type": "code",
      "source": [
        "## While Loops\n",
        "Variable_1, Variable_2 = 10, 20\n",
        "while (Variable_1<= Variable_2):\n",
        "  print(f\"{Variable_1}\\t|\\t{Variable_2}\")\n",
        "  Variable_1 +=1"
      ],
      "metadata": {
        "colab": {
          "base_uri": "https://localhost:8080/"
        },
        "id": "8qpciksrNkNp",
        "outputId": "41baaac5-9b7e-4bcc-bd66-6136b4351833"
      },
      "execution_count": null,
      "outputs": [
        {
          "output_type": "stream",
          "name": "stdout",
          "text": [
            "10\t|\t20\n",
            "11\t|\t20\n",
            "12\t|\t20\n",
            "13\t|\t20\n",
            "14\t|\t20\n",
            "15\t|\t20\n",
            "16\t|\t20\n",
            "17\t|\t20\n",
            "18\t|\t20\n",
            "19\t|\t20\n",
            "20\t|\t20\n"
          ]
        }
      ]
    },
    {
      "cell_type": "markdown",
      "source": [
        "### For"
      ],
      "metadata": {
        "id": "6tGNRjAFOKs6"
      }
    },
    {
      "cell_type": "code",
      "source": [
        "A = 0\n",
        "for A in range(20):\n",
        "    print(A)"
      ],
      "metadata": {
        "colab": {
          "base_uri": "https://localhost:8080/"
        },
        "id": "dUPp3tJDORIY",
        "outputId": "41887642-dcf6-47a5-8479-9595191e08cc"
      },
      "execution_count": null,
      "outputs": [
        {
          "output_type": "stream",
          "name": "stdout",
          "text": [
            "0\n",
            "1\n",
            "2\n",
            "3\n",
            "4\n",
            "5\n",
            "6\n",
            "7\n",
            "8\n",
            "9\n",
            "10\n",
            "11\n",
            "12\n",
            "13\n",
            "14\n",
            "15\n",
            "16\n",
            "17\n",
            "18\n",
            "19\n"
          ]
        }
      ]
    },
    {
      "cell_type": "code",
      "source": [
        "playlist = [\"Once Dance\", \"God's Plan\", \"Passionfruit\"]\n",
        "print('Now Playing: \\n')\n",
        "for song in playlist:\n",
        "  print(song)"
      ],
      "metadata": {
        "colab": {
          "base_uri": "https://localhost:8080/"
        },
        "id": "1X5GVoZ8OpU7",
        "outputId": "7d355044-3b9a-4c26-df08-57a212b4ab4d"
      },
      "execution_count": null,
      "outputs": [
        {
          "output_type": "stream",
          "name": "stdout",
          "text": [
            "Now Playing: \n",
            "\n",
            "Once Dance\n",
            "God's Plan\n",
            "Passionfruit\n"
          ]
        }
      ]
    },
    {
      "cell_type": "markdown",
      "source": [
        "# **Flow Control**"
      ],
      "metadata": {
        "id": "R4uVzt-4PT34"
      }
    },
    {
      "cell_type": "markdown",
      "source": [
        "### Condition Statements"
      ],
      "metadata": {
        "id": "myBpMjzDPWqa"
      }
    },
    {
      "cell_type": "code",
      "source": [
        "AB, CD =14,14\n",
        "if(AB == CD):\n",
        "    print(\"AB is equal to CD\")\n",
        "elif(AB>CD):\n",
        "    print(\"AB is greater than CD\")\n",
        "else:\n",
        "  print(\"IDK\")"
      ],
      "metadata": {
        "colab": {
          "base_uri": "https://localhost:8080/"
        },
        "id": "IcBqEAWuPZHa",
        "outputId": "906d6518-d1c6-4272-ba74-392423e34656"
      },
      "execution_count": null,
      "outputs": [
        {
          "output_type": "stream",
          "name": "stdout",
          "text": [
            "AB is equal to CD\n"
          ]
        }
      ]
    },
    {
      "cell_type": "code",
      "source": [
        "### Functions"
      ],
      "metadata": {
        "id": "QaESDqXNQElp"
      },
      "execution_count": null,
      "outputs": []
    },
    {
      "cell_type": "code",
      "source": [
        "def Total_followers (followers):\n",
        "    print(\"Your total followers are: {}\". format(followers))\n",
        "\n",
        "def Follow_account ():\n",
        "    print(\"You followed __'s account\")\n",
        "        "
      ],
      "metadata": {
        "id": "Um_ZeLeFQF1v"
      },
      "execution_count": null,
      "outputs": []
    },
    {
      "cell_type": "code",
      "source": [
        "followers = 987\n",
        "Total_followers (987)\n",
        "Follow_account ()"
      ],
      "metadata": {
        "colab": {
          "base_uri": "https://localhost:8080/"
        },
        "id": "hC20pV19QISS",
        "outputId": "d2aecce1-d3bc-4476-db93-ede623679db1"
      },
      "execution_count": null,
      "outputs": [
        {
          "output_type": "stream",
          "name": "stdout",
          "text": [
            "Your total followers are: 987\n",
            "You followed __'s account\n"
          ]
        }
      ]
    },
    {
      "cell_type": "code",
      "source": [
        "def add(num1, num2):\n",
        "    print(\"i know how to add num1 and num2\")\n",
        "    return num1 + num2\n",
        "def power_of_base2(exponent):\n",
        "    return 2**exponent\n",
        "\n",
        "exponent = 10\n",
        "num1 = 10\n",
        "num2 = 10\n",
        "\n",
        "#add(num1, num2)\n",
        "add(num1, num2)\n",
        "\n",
        "\n",
        "\n",
        "\n"
      ],
      "metadata": {
        "colab": {
          "base_uri": "https://localhost:8080/"
        },
        "id": "4-5f1TmvRVqe",
        "outputId": "14e64aab-603c-4571-80d8-19b39567cb1c"
      },
      "execution_count": null,
      "outputs": [
        {
          "output_type": "stream",
          "name": "stdout",
          "text": [
            "i know how to add num1 and num2\n"
          ]
        },
        {
          "output_type": "execute_result",
          "data": {
            "text/plain": [
              "20"
            ]
          },
          "metadata": {},
          "execution_count": 55
        }
      ]
    },
    {
      "cell_type": "markdown",
      "source": [
        "# **Semestral Grade Calculator**"
      ],
      "metadata": {
        "id": "QZLwdnXcUIsG"
      }
    },
    {
      "cell_type": "code",
      "source": [
        "name = input(\"Enter your name: \")\n",
        "coursename = input(\"Enter your course: \")\n",
        "\n",
        "print(\"\\nLet's compute for your semestral grade!\")\n",
        "\n",
        " \n",
        "prelims = input(\"\\nPrelim Grade: \")\n",
        "midterms = input(\"Midterm Grade: \")\n",
        "finals = input(\"Finals Grade:\")\n",
        "\n",
        "prelims = float(prelims)\n",
        "midterms = float(midterms)\n",
        "finals = float(finals)\n",
        "\n",
        "## Weighted grades\n",
        "\n",
        "prelims_w = prelims * 0.3\n",
        "midterms_w = midterms * 0.3\n",
        "finals_w = finals * 0.4\n",
        "\n",
        "sem_grade = (prelims_w + midterms_w + finals_w)\n",
        "\n",
        "sem_grade_percent = sem_grade / 100\n",
        "\n",
        "\n",
        "passing_grade = 70\n",
        "\n",
        "if (sem_grade == passing_grade):\n",
        "    print(\"\\nHi {}, your semestral grade is: {:.2%}, \\U0001F606 \". format(name, sem_grade_percent))\n",
        "elif (sem_grade > passing_grade):\n",
        "    print(\"\\nHi {}, your semestral grade is: {:.2%}, \\U0001F600 \". format(name, sem_grade_percent))\n",
        "else:\n",
        "    print(\"\\nHi {}, your semestral grade is: {:.2%}, \\U0001F62D \". format(name, sem_grade_percent))\n"
      ],
      "metadata": {
        "id": "hQI2145QUOUY",
        "colab": {
          "base_uri": "https://localhost:8080/"
        },
        "outputId": "2fa9ca20-f1ac-46ff-e2ba-38705547dad5"
      },
      "execution_count": null,
      "outputs": [
        {
          "output_type": "stream",
          "name": "stdout",
          "text": [
            "Enter your name: Jepoy Dizon\n",
            "Enter your course: Petroleum Enginering\n",
            "\n",
            "Let's compute for your semestral grade!\n",
            "\n",
            "Prelim Grade: 98\n",
            "Midterm Grade: 75\n",
            "Finals Grade:86\n",
            "\n",
            "Hi Jepoy Dizon, your semestral grade is: 86.30%, 😀 \n"
          ]
        }
      ]
    }
  ]
}