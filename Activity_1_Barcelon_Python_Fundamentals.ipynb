{
  "nbformat": 4,
  "nbformat_minor": 0,
  "metadata": {
    "colab": {
      "name": "Activity 1 Barcelon  - Python Fundamentals",
      "provenance": [],
      "authorship_tag": "ABX9TyNwA/tXI40InBYtj1ebtH3q",
      "include_colab_link": true
    },
    "kernelspec": {
      "name": "python3",
      "display_name": "Python 3"
    },
    "language_info": {
      "name": "python"
    }
  },
  "cells": [
    {
      "cell_type": "markdown",
      "metadata": {
        "id": "view-in-github",
        "colab_type": "text"
      },
      "source": [
        "<a href=\"https://colab.research.google.com/github/JuanBarcelon/Linear_Algebra_ChE_2nd-Sem-2021-2022/blob/main/Activity_1_Barcelon_Python_Fundamentals.ipynb\" target=\"_parent\"><img src=\"https://colab.research.google.com/assets/colab-badge.svg\" alt=\"Open In Colab\"/></a>"
      ]
    },
    {
      "cell_type": "markdown",
      "source": [
        "# Welcome to Python Fundamentals\n",
        "In this module, we are going to establish or review our skills in Python programming. In this notebook we are going to cover:\n",
        "* Variables and Data Types \n",
        "* Operations\n",
        "* Input and Output Operations\n",
        "* Logic Control\n",
        "* Iterables\n",
        "* Functions"
      ],
      "metadata": {
        "id": "dfdqKghQX57L"
      }
    },
    {
      "cell_type": "markdown",
      "source": [
        "# **VARIABLES AND DATA TYPES**\n",
        "\n",
        "A Python variable is a symbolic name that is a reference or pointer to an object while data types data are used to classify one particular type of data. This is important because the specific data type you use will determine what values you can assign to it and what you can do to it. The python data types discussed in this lesson are: \n",
        "\n",
        "- string\n",
        "- float\n",
        "- integer"
      ],
      "metadata": {
        "id": "2E2-LKTFAKRC"
      }
    },
    {
      "cell_type": "code",
      "source": [
        "Number30 = 30\n",
        "a,Nike = 0, 20\n",
        "Nike"
      ],
      "metadata": {
        "id": "4oXfH-YiAZD1",
        "colab": {
          "base_uri": "https://localhost:8080/"
        },
        "outputId": "2f8077f5-1410-4af6-c5ab-c6885f319955"
      },
      "execution_count": null,
      "outputs": [
        {
          "output_type": "execute_result",
          "data": {
            "text/plain": [
              "20"
            ]
          },
          "metadata": {},
          "execution_count": 3
        }
      ]
    },
    {
      "cell_type": "code",
      "source": [
        "type(Number30)"
      ],
      "metadata": {
        "id": "dLJV86zQA69l",
        "colab": {
          "base_uri": "https://localhost:8080/"
        },
        "outputId": "730d5028-fa41-4739-c3db-02cc4ed7cfbb"
      },
      "execution_count": null,
      "outputs": [
        {
          "output_type": "execute_result",
          "data": {
            "text/plain": [
              "int"
            ]
          },
          "metadata": {},
          "execution_count": 4
        }
      ]
    },
    {
      "cell_type": "code",
      "source": [
        "A = 5.0\n",
        "type(A)"
      ],
      "metadata": {
        "id": "51fCtOimBjt7",
        "colab": {
          "base_uri": "https://localhost:8080/"
        },
        "outputId": "6ab29eb8-3955-443e-9294-9c85a861ba71"
      },
      "execution_count": null,
      "outputs": [
        {
          "output_type": "execute_result",
          "data": {
            "text/plain": [
              "float"
            ]
          },
          "metadata": {},
          "execution_count": 5
        }
      ]
    },
    {
      "cell_type": "code",
      "source": [
        "Number30 = float(Number30)\n",
        "type(Number30)\n",
        "Number30"
      ],
      "metadata": {
        "id": "w1qEByriBs2L",
        "colab": {
          "base_uri": "https://localhost:8080/"
        },
        "outputId": "b04b424f-3ed0-4f3f-f09b-b88a01457130"
      },
      "execution_count": null,
      "outputs": [
        {
          "output_type": "execute_result",
          "data": {
            "text/plain": [
              "30.0"
            ]
          },
          "metadata": {},
          "execution_count": 6
        }
      ]
    },
    {
      "cell_type": "code",
      "source": [
        "s,t,u = \"900\", '500', 'Five Hundred'\n",
        "type(u)\n"
      ],
      "metadata": {
        "id": "mXk21Yt_CAyF",
        "colab": {
          "base_uri": "https://localhost:8080/"
        },
        "outputId": "9ba31a70-5d7b-4b20-bce8-b85e6c08a5b8"
      },
      "execution_count": null,
      "outputs": [
        {
          "output_type": "execute_result",
          "data": {
            "text/plain": [
              "str"
            ]
          },
          "metadata": {},
          "execution_count": 7
        }
      ]
    },
    {
      "cell_type": "code",
      "source": [
        "integer = int(500000)\n",
        "integer"
      ],
      "metadata": {
        "id": "jqDLiDp6Ce66",
        "colab": {
          "base_uri": "https://localhost:8080/"
        },
        "outputId": "1faa5e4f-fba9-4d5d-d30e-fe8d96a312d4"
      },
      "execution_count": null,
      "outputs": [
        {
          "output_type": "execute_result",
          "data": {
            "text/plain": [
              "500000"
            ]
          },
          "metadata": {},
          "execution_count": 8
        }
      ]
    },
    {
      "cell_type": "markdown",
      "source": [
        "# **OPERATIONS**\n",
        "\n",
        "Operations are symbols that are used to perform mathematical operations such as addition, division, multiplication, and other more. It is also used to carry out logical computations."
      ],
      "metadata": {
        "id": "4RuTzQbFJtTX"
      }
    },
    {
      "cell_type": "markdown",
      "source": [
        "## Arithmetic"
      ],
      "metadata": {
        "id": "rouh-AeoDBdb"
      }
    },
    {
      "cell_type": "code",
      "source": [
        "a, b, c ,d = 70, 6, 0, -32"
      ],
      "metadata": {
        "id": "Diz8hCA3DDY1"
      },
      "execution_count": null,
      "outputs": []
    },
    {
      "cell_type": "code",
      "source": [
        "### Addition\n",
        "adding = a+b\n",
        "adding"
      ],
      "metadata": {
        "id": "YcXoluGYDNXl",
        "colab": {
          "base_uri": "https://localhost:8080/"
        },
        "outputId": "49a6a733-e5d2-4e58-af44-d3969bd0035a"
      },
      "execution_count": null,
      "outputs": [
        {
          "output_type": "execute_result",
          "data": {
            "text/plain": [
              "76"
            ]
          },
          "metadata": {},
          "execution_count": 10
        }
      ]
    },
    {
      "cell_type": "code",
      "source": [
        "### SUBTRACTION\n",
        "Subtract = b-d\n",
        "Subtract\n"
      ],
      "metadata": {
        "id": "HSvn6AuxEgi8",
        "colab": {
          "base_uri": "https://localhost:8080/"
        },
        "outputId": "47f6cf20-63ea-4b5e-eea2-c8d86e126800"
      },
      "execution_count": null,
      "outputs": [
        {
          "output_type": "execute_result",
          "data": {
            "text/plain": [
              "38"
            ]
          },
          "metadata": {},
          "execution_count": 11
        }
      ]
    },
    {
      "cell_type": "code",
      "source": [
        "### Multiplication\n",
        "\n",
        "Multiply = a*b*c\n",
        "Multiply"
      ],
      "metadata": {
        "id": "VytMIDmpbag3",
        "colab": {
          "base_uri": "https://localhost:8080/"
        },
        "outputId": "d8dc56ef-c79c-42e1-995b-4ac0d48e312f"
      },
      "execution_count": null,
      "outputs": [
        {
          "output_type": "execute_result",
          "data": {
            "text/plain": [
              "0"
            ]
          },
          "metadata": {},
          "execution_count": 12
        }
      ]
    },
    {
      "cell_type": "code",
      "source": [
        "### Floor Division\n",
        "Floor_Divide = a//b\n",
        "Floor_Divide"
      ],
      "metadata": {
        "id": "5V4vd20yE5WE",
        "colab": {
          "base_uri": "https://localhost:8080/"
        },
        "outputId": "e19a6dfe-3adc-439f-b077-cc595c2de06f"
      },
      "execution_count": null,
      "outputs": [
        {
          "output_type": "execute_result",
          "data": {
            "text/plain": [
              "11"
            ]
          },
          "metadata": {},
          "execution_count": 13
        }
      ]
    },
    {
      "cell_type": "code",
      "source": [
        "### Division\n",
        "Divide = b/a\n",
        "Divide"
      ],
      "metadata": {
        "id": "7LujFpVA4RQK",
        "colab": {
          "base_uri": "https://localhost:8080/"
        },
        "outputId": "53b564dc-4f1d-42c8-ae94-7541beba0118"
      },
      "execution_count": null,
      "outputs": [
        {
          "output_type": "execute_result",
          "data": {
            "text/plain": [
              "0.08571428571428572"
            ]
          },
          "metadata": {},
          "execution_count": 14
        }
      ]
    },
    {
      "cell_type": "code",
      "source": [
        "### Exponentiation\n",
        "Exponent = a**b\n",
        "Exponent\n"
      ],
      "metadata": {
        "id": "CTysK95UFcwA",
        "colab": {
          "base_uri": "https://localhost:8080/"
        },
        "outputId": "e934765f-2213-46f0-9aaf-180cf3bc3ca4"
      },
      "execution_count": null,
      "outputs": [
        {
          "output_type": "execute_result",
          "data": {
            "text/plain": [
              "117649000000"
            ]
          },
          "metadata": {},
          "execution_count": 15
        }
      ]
    },
    {
      "cell_type": "code",
      "source": [
        "### Module\n",
        "mod = d%a\n",
        "mod"
      ],
      "metadata": {
        "id": "s8mZFCMYIjnb",
        "colab": {
          "base_uri": "https://localhost:8080/"
        },
        "outputId": "6a9ca916-67dd-4f73-ad63-6affc59848d4"
      },
      "execution_count": null,
      "outputs": [
        {
          "output_type": "execute_result",
          "data": {
            "text/plain": [
              "38"
            ]
          },
          "metadata": {},
          "execution_count": 16
        }
      ]
    },
    {
      "cell_type": "markdown",
      "source": [
        "## Assignment Operations"
      ],
      "metadata": {
        "id": "kObc5G4MJF40"
      }
    },
    {
      "cell_type": "code",
      "source": [
        "G , H , J , K = 100, 200, 300, 400"
      ],
      "metadata": {
        "id": "642N_YttJHmL"
      },
      "execution_count": null,
      "outputs": []
    },
    {
      "cell_type": "code",
      "source": [
        "G += H\n",
        "G"
      ],
      "metadata": {
        "id": "aqlRGkhrJ1Pm",
        "colab": {
          "base_uri": "https://localhost:8080/"
        },
        "outputId": "b8c182aa-c51a-4b26-fbbd-d87c125ea4e9"
      },
      "execution_count": null,
      "outputs": [
        {
          "output_type": "execute_result",
          "data": {
            "text/plain": [
              "300"
            ]
          },
          "metadata": {},
          "execution_count": 18
        }
      ]
    },
    {
      "cell_type": "code",
      "source": [
        "H -= d\n",
        "H"
      ],
      "metadata": {
        "id": "L657eWDJKEcC",
        "colab": {
          "base_uri": "https://localhost:8080/"
        },
        "outputId": "706fe3c9-e8e6-4574-c62b-a92e5c19f362"
      },
      "execution_count": null,
      "outputs": [
        {
          "output_type": "execute_result",
          "data": {
            "text/plain": [
              "232"
            ]
          },
          "metadata": {},
          "execution_count": 19
        }
      ]
    },
    {
      "cell_type": "code",
      "source": [
        "J *= 2\n",
        "J"
      ],
      "metadata": {
        "id": "Qm2Wk6ILK-n8",
        "colab": {
          "base_uri": "https://localhost:8080/"
        },
        "outputId": "acde429e-d384-4a32-80d7-846f04b6ac02"
      },
      "execution_count": null,
      "outputs": [
        {
          "output_type": "execute_result",
          "data": {
            "text/plain": [
              "600"
            ]
          },
          "metadata": {},
          "execution_count": 20
        }
      ]
    },
    {
      "cell_type": "code",
      "source": [
        "K **= 3\n",
        "K"
      ],
      "metadata": {
        "id": "H7yKPINtLLg4",
        "colab": {
          "base_uri": "https://localhost:8080/"
        },
        "outputId": "8de9ca07-0334-4c9c-a348-eeaaf8850e6c"
      },
      "execution_count": null,
      "outputs": [
        {
          "output_type": "execute_result",
          "data": {
            "text/plain": [
              "64000000"
            ]
          },
          "metadata": {},
          "execution_count": 21
        }
      ]
    },
    {
      "cell_type": "markdown",
      "source": [
        "## Comparators\n"
      ],
      "metadata": {
        "id": "XGKZ9tgoLT8X"
      }
    },
    {
      "cell_type": "code",
      "source": [
        "res_1, res_2, res_3 = 3,5.0, \"1\"\n",
        "true_val = 1.0"
      ],
      "metadata": {
        "id": "1fYTQ4D0LWMl"
      },
      "execution_count": null,
      "outputs": []
    },
    {
      "cell_type": "code",
      "source": [
        "## Equality\n",
        "res_1 == true_val"
      ],
      "metadata": {
        "id": "jtm_h8cgLhhi",
        "colab": {
          "base_uri": "https://localhost:8080/"
        },
        "outputId": "864cd8da-7923-4e0b-85ec-9ab1af208dcb"
      },
      "execution_count": null,
      "outputs": [
        {
          "output_type": "execute_result",
          "data": {
            "text/plain": [
              "False"
            ]
          },
          "metadata": {},
          "execution_count": 23
        }
      ]
    },
    {
      "cell_type": "code",
      "source": [
        "## Non-equality\n",
        "res_2 != true_val"
      ],
      "metadata": {
        "id": "l4mjo1IILr6y",
        "colab": {
          "base_uri": "https://localhost:8080/"
        },
        "outputId": "95dab12f-32ce-4759-f5d3-4957a34e5df9"
      },
      "execution_count": null,
      "outputs": [
        {
          "output_type": "execute_result",
          "data": {
            "text/plain": [
              "True"
            ]
          },
          "metadata": {},
          "execution_count": 24
        }
      ]
    },
    {
      "cell_type": "code",
      "source": [
        "## Inequality\n",
        "t1 = res_1 > res_2\n",
        "t2 = res_1 < res_2/res_2\n",
        "t3 = res_1 >= res_2/2\n",
        "t4 = res_1 <= res_2\n",
        "print(\"the first is {}, and the second is {}\" .format(t2, t1))"
      ],
      "metadata": {
        "id": "o52x2X6tL2Lf",
        "colab": {
          "base_uri": "https://localhost:8080/"
        },
        "outputId": "4fc8108b-028c-4cea-f13d-1544654767c5"
      },
      "execution_count": null,
      "outputs": [
        {
          "output_type": "stream",
          "name": "stdout",
          "text": [
            "the first is False, and the second is False\n"
          ]
        }
      ]
    },
    {
      "cell_type": "code",
      "source": [
        "res_1 == true_val"
      ],
      "metadata": {
        "colab": {
          "base_uri": "https://localhost:8080/"
        },
        "outputId": "6f4b7eca-d55e-4544-d285-900934df4ea2",
        "id": "Wc2e3037K-dr"
      },
      "execution_count": null,
      "outputs": [
        {
          "output_type": "execute_result",
          "data": {
            "text/plain": [
              "False"
            ]
          },
          "metadata": {},
          "execution_count": 26
        }
      ]
    },
    {
      "cell_type": "markdown",
      "source": [
        "## Logical"
      ],
      "metadata": {
        "id": "hWuK3ydUK-di"
      }
    },
    {
      "cell_type": "code",
      "source": [
        "res_1 is res_1"
      ],
      "metadata": {
        "colab": {
          "base_uri": "https://localhost:8080/"
        },
        "outputId": "48e8e267-8f32-4307-bc32-b745095a8312",
        "id": "z2zng1QSK-dr"
      },
      "execution_count": null,
      "outputs": [
        {
          "output_type": "execute_result",
          "data": {
            "text/plain": [
              "True"
            ]
          },
          "metadata": {},
          "execution_count": 27
        }
      ]
    },
    {
      "cell_type": "code",
      "source": [
        "res_1 is not true_val"
      ],
      "metadata": {
        "colab": {
          "base_uri": "https://localhost:8080/"
        },
        "outputId": "8be0e5ba-b9d9-4648-a3d1-1fc96a3a7795",
        "id": "xDUemmVEK-dr"
      },
      "execution_count": null,
      "outputs": [
        {
          "output_type": "execute_result",
          "data": {
            "text/plain": [
              "True"
            ]
          },
          "metadata": {},
          "execution_count": 28
        }
      ]
    },
    {
      "cell_type": "code",
      "source": [
        "p, q = True, False\n",
        "conj = p and q\n",
        "conj"
      ],
      "metadata": {
        "colab": {
          "base_uri": "https://localhost:8080/"
        },
        "outputId": "5578561c-fd51-4334-bad5-3adf2ef230bd",
        "id": "KOTsItYUK-dr"
      },
      "execution_count": null,
      "outputs": [
        {
          "output_type": "execute_result",
          "data": {
            "text/plain": [
              "False"
            ]
          },
          "metadata": {},
          "execution_count": 29
        }
      ]
    },
    {
      "cell_type": "code",
      "source": [
        "p, q = True, False\n",
        "disj = p or q\n",
        "disj"
      ],
      "metadata": {
        "colab": {
          "base_uri": "https://localhost:8080/"
        },
        "outputId": "b9dbba7e-4ed1-47e1-e166-4d8249167f53",
        "id": "KGcj4_1vK-ds"
      },
      "execution_count": null,
      "outputs": [
        {
          "output_type": "execute_result",
          "data": {
            "text/plain": [
              "True"
            ]
          },
          "metadata": {},
          "execution_count": 30
        }
      ]
    },
    {
      "cell_type": "code",
      "source": [
        "p, q = True, False\n",
        "nand = not(p and q)\n",
        "nand"
      ],
      "metadata": {
        "colab": {
          "base_uri": "https://localhost:8080/"
        },
        "outputId": "ac4286ed-8922-459c-d113-c32c6e48b8a4",
        "id": "qaKkwpQJK-dt"
      },
      "execution_count": null,
      "outputs": [
        {
          "output_type": "execute_result",
          "data": {
            "text/plain": [
              "True"
            ]
          },
          "metadata": {},
          "execution_count": 31
        }
      ]
    },
    {
      "cell_type": "code",
      "source": [
        "p, q = True, False\n",
        "xor = (not p and q) or (p and not q)\n",
        "xor"
      ],
      "metadata": {
        "colab": {
          "base_uri": "https://localhost:8080/"
        },
        "outputId": "a8a9871f-2e75-4270-fa28-d10ca5395eb2",
        "id": "ktWyuVOmK-du"
      },
      "execution_count": null,
      "outputs": [
        {
          "output_type": "execute_result",
          "data": {
            "text/plain": [
              "True"
            ]
          },
          "metadata": {},
          "execution_count": 32
        }
      ]
    },
    {
      "cell_type": "code",
      "source": [
        ""
      ],
      "metadata": {
        "id": "4JcgAvlEL8T2"
      },
      "execution_count": null,
      "outputs": []
    },
    {
      "cell_type": "markdown",
      "source": [
        "## I/O"
      ],
      "metadata": {
        "id": "8uzlKN6SO8uB"
      }
    },
    {
      "cell_type": "code",
      "source": [
        "print (\"Welcome to linear algebra\")"
      ],
      "metadata": {
        "id": "VRWuGX0FPH8k",
        "colab": {
          "base_uri": "https://localhost:8080/"
        },
        "outputId": "4b523e6d-586a-49ca-e926-5dc22002058e"
      },
      "execution_count": null,
      "outputs": [
        {
          "output_type": "stream",
          "name": "stdout",
          "text": [
            "Welcome to linear algebra\n"
          ]
        }
      ]
    },
    {
      "cell_type": "code",
      "source": [
        "cnt = 1"
      ],
      "metadata": {
        "id": "vUuGIkvhPNCn"
      },
      "execution_count": null,
      "outputs": []
    },
    {
      "cell_type": "code",
      "source": [
        "string = \"welcome to linear algebra\"\n",
        "print(string, \", Current run count is:\", cnt)\n",
        "cnt +=1"
      ],
      "metadata": {
        "id": "l5PCHCOcPZ7m",
        "colab": {
          "base_uri": "https://localhost:8080/"
        },
        "outputId": "01dc0d19-e5ca-40e6-9df9-1f73b0fc9f07"
      },
      "execution_count": null,
      "outputs": [
        {
          "output_type": "stream",
          "name": "stdout",
          "text": [
            "welcome to linear algebra , Current run count is: 1\n"
          ]
        }
      ]
    },
    {
      "cell_type": "code",
      "source": [
        "print(f\"{string}, Current count is: {cnt}\")\n"
      ],
      "metadata": {
        "id": "jIO-vLz2P0px",
        "colab": {
          "base_uri": "https://localhost:8080/"
        },
        "outputId": "bff64c18-49fd-4180-f956-0685d9889f64"
      },
      "execution_count": null,
      "outputs": [
        {
          "output_type": "stream",
          "name": "stdout",
          "text": [
            "welcome to linear algebra, Current count is: 2\n"
          ]
        }
      ]
    },
    {
      "cell_type": "code",
      "source": [
        "sem_grade = 82.5\n",
        "name = \"Barcelon\"\n",
        "verdict = \"passed\"\n",
        "print(\"hello {}, your semestral grade is: {} \\\n",
        "\\nyour verdict is: {}\".format(name, sem_grade, verdict))\n",
        "\n",
        "print(\"hello\", name, \", your sem grade is:\", sem_grade)"
      ],
      "metadata": {
        "id": "0rr_dqBPQPui",
        "colab": {
          "base_uri": "https://localhost:8080/"
        },
        "outputId": "9ada6b88-5357-4fff-c774-0ae85fd9a42a"
      },
      "execution_count": null,
      "outputs": [
        {
          "output_type": "stream",
          "name": "stdout",
          "text": [
            "hello Barcelon, your semestral grade is: 82.5 \n",
            "your verdict is: passed\n",
            "hello Barcelon , your sem grade is: 82.5\n"
          ]
        }
      ]
    },
    {
      "cell_type": "code",
      "source": [
        "w_pg, w_mg, w_fg = 30, 0.3, 0.4\n",
        "print(\"The weights of your sem grades are:\\\n",
        "\\n\\t{} for Prelims\\\n",
        "\\n\\t{} for Midterms, and\\\n",
        "\\n\\t{} for Finals.\" .format(w_pg, w_mg, w_fg))\n",
        "\n",
        "print(\"The weights of your sem grades are:\\\n",
        "\\n\\t{:.2%} for Prelims\\\n",
        "\\n\\t{:.2%} for Midterms, and\\\n",
        "\\n\\t{:.2%} for Finals.\" .format(w_pg, w_mg, w_fg))\n",
        "\n"
      ],
      "metadata": {
        "id": "Xk8N1bnZ_KBM",
        "colab": {
          "base_uri": "https://localhost:8080/"
        },
        "outputId": "a8a53a26-210b-46e0-ad72-1c6224349a6e"
      },
      "execution_count": null,
      "outputs": [
        {
          "output_type": "stream",
          "name": "stdout",
          "text": [
            "The weights of your sem grades are:\n",
            "\t30 for Prelims\n",
            "\t0.3 for Midterms, and\n",
            "\t0.4 for Finals.\n",
            "The weights of your sem grades are:\n",
            "\t3000.00% for Prelims\n",
            "\t30.00% for Midterms, and\n",
            "\t40.00% for Finals.\n"
          ]
        }
      ]
    },
    {
      "cell_type": "code",
      "source": [
        "x = input(\"Favorite Food: \")\n",
        "y = input(\"Favorite Drink: \")\n",
        "y"
      ],
      "metadata": {
        "id": "u5Ya4p6WBGkG",
        "colab": {
          "base_uri": "https://localhost:8080/",
          "height": 73
        },
        "outputId": "8ff332a0-8064-4186-e0a6-820f04a62a1d"
      },
      "execution_count": null,
      "outputs": [
        {
          "name": "stdout",
          "output_type": "stream",
          "text": [
            "Favorite Food: bacon\n",
            "Favorite Drink: apple juice\n"
          ]
        },
        {
          "output_type": "execute_result",
          "data": {
            "application/vnd.google.colaboratory.intrinsic+json": {
              "type": "string"
            },
            "text/plain": [
              "'apple juice'"
            ]
          },
          "metadata": {},
          "execution_count": 39
        }
      ]
    },
    {
      "cell_type": "code",
      "source": [
        "name = input(\"Enter your name: \")\n",
        "pg = input(\"Enter prelim grade: \")\n",
        "mg = input(\"enter midterm grade: \")\n",
        "fg= input(\"Enter finals grade: \")\n",
        "sem_grade = 90\n",
        "print(\"Hello {}, your semestreal grade is: {}\".format(name,sem_grade))"
      ],
      "metadata": {
        "id": "8AHSdRYWDpv5",
        "colab": {
          "base_uri": "https://localhost:8080/"
        },
        "outputId": "c6f1d451-0e91-45df-ae78-2f0a8d8d3bb4"
      },
      "execution_count": null,
      "outputs": [
        {
          "output_type": "stream",
          "name": "stdout",
          "text": [
            "Enter your name: Juan Barcelon\n",
            "Enter prelim grade: 90\n",
            "enter midterm grade: 87\n",
            "Enter finals grade: 89\n",
            "Hello Juan Barcelon, your semestreal grade is: 90\n"
          ]
        }
      ]
    },
    {
      "cell_type": "markdown",
      "source": [
        "# **LOOPING STATEMENTS**\n",
        "\n",
        "Looping statements are used to repeat a statement or block of statements until a certain condition is reached. Python provides two types of loops:\n",
        "\n",
        "- while loop\n",
        "- for loop"
      ],
      "metadata": {
        "id": "34SV97m9NgHh"
      }
    },
    {
      "cell_type": "markdown",
      "source": [
        "### While"
      ],
      "metadata": {
        "id": "MrBuxs8gNmoa"
      }
    },
    {
      "cell_type": "code",
      "source": [
        "## While Loops\n",
        "Variable_1, Variable_2 = 10, 20\n",
        "while (Variable_1<= Variable_2):\n",
        "  print(f\"{Variable_1}\\t|\\t{Variable_2}\")\n",
        "  Variable_1 +=1"
      ],
      "metadata": {
        "colab": {
          "base_uri": "https://localhost:8080/"
        },
        "id": "8qpciksrNkNp",
        "outputId": "4ff4970b-27df-46e0-dd04-a1b7e626ebab"
      },
      "execution_count": null,
      "outputs": [
        {
          "output_type": "stream",
          "name": "stdout",
          "text": [
            "10\t|\t20\n",
            "11\t|\t20\n",
            "12\t|\t20\n",
            "13\t|\t20\n",
            "14\t|\t20\n",
            "15\t|\t20\n",
            "16\t|\t20\n",
            "17\t|\t20\n",
            "18\t|\t20\n",
            "19\t|\t20\n",
            "20\t|\t20\n"
          ]
        }
      ]
    },
    {
      "cell_type": "markdown",
      "source": [
        "### For"
      ],
      "metadata": {
        "id": "6tGNRjAFOKs6"
      }
    },
    {
      "cell_type": "code",
      "source": [
        "A = 0\n",
        "for A in range(20):\n",
        "    print(A)"
      ],
      "metadata": {
        "colab": {
          "base_uri": "https://localhost:8080/"
        },
        "id": "dUPp3tJDORIY",
        "outputId": "7c204f60-0e92-49e1-d600-2439fa390d70"
      },
      "execution_count": null,
      "outputs": [
        {
          "output_type": "stream",
          "name": "stdout",
          "text": [
            "0\n",
            "1\n",
            "2\n",
            "3\n",
            "4\n",
            "5\n",
            "6\n",
            "7\n",
            "8\n",
            "9\n",
            "10\n",
            "11\n",
            "12\n",
            "13\n",
            "14\n",
            "15\n",
            "16\n",
            "17\n",
            "18\n",
            "19\n"
          ]
        }
      ]
    },
    {
      "cell_type": "code",
      "source": [
        "playlist = [\"Once Dance\", \"God's Plan\", \"Passionfruit\"]\n",
        "print('Now Playing: \\n')\n",
        "for song in playlist:\n",
        "  print(song)"
      ],
      "metadata": {
        "colab": {
          "base_uri": "https://localhost:8080/"
        },
        "id": "1X5GVoZ8OpU7",
        "outputId": "623486b1-7d13-4c9b-afbd-33bb4b97dfd3"
      },
      "execution_count": null,
      "outputs": [
        {
          "output_type": "stream",
          "name": "stdout",
          "text": [
            "Now Playing: \n",
            "\n",
            "Once Dance\n",
            "God's Plan\n",
            "Passionfruit\n"
          ]
        }
      ]
    },
    {
      "cell_type": "markdown",
      "source": [
        "# **FLOW CONTROL**\n",
        "\n",
        "The flow controls are the order in which the program’s code executes. The types of flow control used in the figure above are conditional statements and functions. Conditional statements consist of “if”, “elif”, and “else” statements that show results based on what conditions are to be met. A function is used to call an object in python, and can also return an object."
      ],
      "metadata": {
        "id": "R4uVzt-4PT34"
      }
    },
    {
      "cell_type": "markdown",
      "source": [
        "### Condition Statements"
      ],
      "metadata": {
        "id": "myBpMjzDPWqa"
      }
    },
    {
      "cell_type": "code",
      "source": [
        "AB, CD =14,14\n",
        "if(AB == CD):\n",
        "    print(\"AB is equal to CD\")\n",
        "elif(AB>CD):\n",
        "    print(\"AB is greater than CD\")\n",
        "else:\n",
        "  print(\"IDK\")"
      ],
      "metadata": {
        "colab": {
          "base_uri": "https://localhost:8080/"
        },
        "id": "IcBqEAWuPZHa",
        "outputId": "6e623cbc-791a-453e-f038-e1d91c01057b"
      },
      "execution_count": null,
      "outputs": [
        {
          "output_type": "stream",
          "name": "stdout",
          "text": [
            "AB is equal to CD\n"
          ]
        }
      ]
    },
    {
      "cell_type": "markdown",
      "source": [
        "### Function"
      ],
      "metadata": {
        "id": "UeTYmyja7GEd"
      }
    },
    {
      "cell_type": "code",
      "source": [
        "def Total_followers (followers):\n",
        "    print(\"Your total followers are: {}\". format(followers))\n",
        "\n",
        "def Follow_account ():\n",
        "    print(\"You followed __'s account\")"
      ],
      "metadata": {
        "id": "Um_ZeLeFQF1v"
      },
      "execution_count": null,
      "outputs": []
    },
    {
      "cell_type": "code",
      "source": [
        "followers = 987\n",
        "Total_followers (987)\n",
        "Follow_account ()"
      ],
      "metadata": {
        "colab": {
          "base_uri": "https://localhost:8080/"
        },
        "id": "hC20pV19QISS",
        "outputId": "6b0b0476-273e-4a32-bf61-f8f75f9e4860"
      },
      "execution_count": null,
      "outputs": [
        {
          "output_type": "stream",
          "name": "stdout",
          "text": [
            "Your total followers are: 987\n",
            "You followed __'s account\n"
          ]
        }
      ]
    },
    {
      "cell_type": "code",
      "source": [
        "def add(num1, num2):\n",
        "    print(\"I know how to add num1 and num2\")\n",
        "    return num1 + num2\n",
        "def power_of_base2(exponent):\n",
        "    return 2**exponent\n",
        "\n",
        "exponent = 10\n",
        "num1 = 10\n",
        "num2 = 10\n",
        "\n",
        "#add(num1, num2)\n",
        "add(num1, num2)"
      ],
      "metadata": {
        "colab": {
          "base_uri": "https://localhost:8080/"
        },
        "id": "4-5f1TmvRVqe",
        "outputId": "368b952a-0dc6-4da4-9184-8947c2626084"
      },
      "execution_count": null,
      "outputs": [
        {
          "output_type": "stream",
          "name": "stdout",
          "text": [
            "I know how to add num1 and num2\n"
          ]
        },
        {
          "output_type": "execute_result",
          "data": {
            "text/plain": [
              "20"
            ]
          },
          "metadata": {},
          "execution_count": 50
        }
      ]
    },
    {
      "cell_type": "markdown",
      "source": [
        "# **Semestral Grade Calculator**\n",
        "\n",
        "This is a semestral grade calculator which inputs and prints the student's name, course, and calculated semestral grade with an emoji based on if he/she passed, failed, or is equal to the passing grade."
      ],
      "metadata": {
        "id": "QZLwdnXcUIsG"
      }
    },
    {
      "cell_type": "code",
      "source": [
        "name = input(\"Enter your name: \")\n",
        "coursename = input(\"Enter your course: \")\n",
        "\n",
        "print(\"\\nLet's compute for your semestral grade!\")\n",
        "\n",
        " \n",
        "prelims = input(\"\\nPrelim Grade: \")\n",
        "midterms = input(\"Midterm Grade: \")\n",
        "finals = input(\"Finals Grade:\")\n",
        "\n",
        "prelims = float(prelims)\n",
        "midterms = float(midterms)\n",
        "finals = float(finals)\n",
        "\n",
        "## Weighted grades\n",
        "\n",
        "prelims_w = prelims * 0.3\n",
        "midterms_w = midterms * 0.3\n",
        "finals_w = finals * 0.4\n",
        "\n",
        "sem_grade = (prelims_w + midterms_w + finals_w)\n",
        "\n",
        "sem_grade_percent = sem_grade / 100\n",
        "\n",
        "\n",
        "passing_grade = 70\n",
        "\n",
        "if (sem_grade == passing_grade):\n",
        "    print(\"\\nHi {}, your semestral grade is: {:.2%}, \\U0001F606 \". format(name, sem_grade_percent))\n",
        "elif (sem_grade > passing_grade):\n",
        "    print(\"\\nHi {}, your semestral grade is: {:.2%}, \\U0001F600 \". format(name, sem_grade_percent))\n",
        "else:\n",
        "    print(\"\\nHi {}, your semestral grade is: {:.2%}, \\U0001F62D \". format(name, sem_grade_percent))\n"
      ],
      "metadata": {
        "id": "hQI2145QUOUY",
        "colab": {
          "base_uri": "https://localhost:8080/"
        },
        "outputId": "27b19bff-30bf-4972-d1b8-8ae404caee16"
      },
      "execution_count": null,
      "outputs": [
        {
          "output_type": "stream",
          "name": "stdout",
          "text": [
            "Enter your name: Jepy Dizon\n",
            "Enter your course: petroleum engineering\n",
            "\n",
            "Let's compute for your semestral grade!\n",
            "\n",
            "Prelim Grade: 98\n",
            "Midterm Grade: 89\n",
            "Finals Grade:86\n",
            "\n",
            "Hi Jepy Dizon, your semestral grade is: 90.50%, 😀 \n"
          ]
        }
      ]
    }
  ]
}